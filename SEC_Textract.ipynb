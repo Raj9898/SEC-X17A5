{
 "cells": [
  {
   "cell_type": "code",
   "execution_count": 37,
   "metadata": {},
   "outputs": [
    {
     "name": "stdout",
     "output_type": "stream",
     "text": [
      "Requirement already up-to-date: pip in /home/ec2-user/anaconda3/envs/python3/lib/python3.6/site-packages (20.2.4)\n",
      "Requirement already satisfied: smart_open in /home/ec2-user/anaconda3/envs/python3/lib/python3.6/site-packages (3.0.0)\n",
      "Requirement already satisfied: minecart in /home/ec2-user/anaconda3/envs/python3/lib/python3.6/site-packages (0.3.0)\n",
      "Requirement already satisfied: requests in /home/ec2-user/anaconda3/envs/python3/lib/python3.6/site-packages (from smart_open) (2.22.0)\n",
      "Requirement already satisfied: six in /home/ec2-user/anaconda3/envs/python3/lib/python3.6/site-packages (from minecart) (1.14.0)\n",
      "Requirement already satisfied: pdfminer3k in /home/ec2-user/anaconda3/envs/python3/lib/python3.6/site-packages (from minecart) (1.3.4)\n",
      "Requirement already satisfied: idna<2.9,>=2.5 in /home/ec2-user/anaconda3/envs/python3/lib/python3.6/site-packages (from requests->smart_open) (2.8)\n",
      "Requirement already satisfied: chardet<3.1.0,>=3.0.2 in /home/ec2-user/anaconda3/envs/python3/lib/python3.6/site-packages (from requests->smart_open) (3.0.4)\n",
      "Requirement already satisfied: urllib3!=1.25.0,!=1.25.1,<1.26,>=1.21.1 in /home/ec2-user/anaconda3/envs/python3/lib/python3.6/site-packages (from requests->smart_open) (1.25.10)\n",
      "Requirement already satisfied: certifi>=2017.4.17 in /home/ec2-user/anaconda3/envs/python3/lib/python3.6/site-packages (from requests->smart_open) (2020.6.20)\n",
      "Requirement already satisfied: ply in /home/ec2-user/anaconda3/envs/python3/lib/python3.6/site-packages (from pdfminer3k->minecart) (3.11)\n",
      "Requirement already satisfied: textract-trp in /home/ec2-user/anaconda3/envs/python3/lib/python3.6/site-packages (0.1.3)\n"
     ]
    }
   ],
   "source": [
    "%%bash\n",
    "pip install --upgrade pip\n",
    "pip install smart_open minecart\n",
    "pip install textract-trp"
   ]
  },
  {
   "cell_type": "code",
   "execution_count": 76,
   "metadata": {},
   "outputs": [],
   "source": [
    "import time \n",
    "import os\n",
    "import trp\n",
    "import random \n",
    "import boto3\n",
    "import minecart\n",
    "import numpy as np\n",
    "import pandas as pd\n",
    "\n",
    "from smart_open import open\n",
    "from sagemaker.session import Session\n",
    "from io import BytesIO\n",
    "\n",
    "%matplotlib inline"
   ]
  },
  {
   "cell_type": "code",
   "execution_count": 119,
   "metadata": {},
   "outputs": [],
   "source": [
    "# initiate s3 bucket and corresponding data folder\n",
    "# bucket = \"ran-s3-systemic-risk\"\n",
    "# data_folder =\"Input/X-17A-5/\"\n",
    "\n",
    "bucket = \"ran-s3-systemic-risk\"\n",
    "data_folder =\"FOCUS-OCR/SubsetTest/\"\n",
    "\n",
    "# balance_sheet_idx = 3  # the page of the report you care about\n",
    "\n",
    "# Amazon Textract client and Sagemaker session\n",
    "textract = boto3.client('textract')\n",
    "s3 = boto3.client('s3')\n",
    "session = Session()\n",
    "\n",
    "# discover all of the pdfs that you want to parse\n",
    "paths = np.array(session.list_s3_files(bucket, data_folder))\n",
    "subset = 1\n",
    "test_key = np.random.choice(paths, subset)"
   ]
  },
  {
   "cell_type": "code",
   "execution_count": 40,
   "metadata": {},
   "outputs": [
    {
     "data": {
      "text/plain": [
       "array(['FOCUS-OCR/SubsetTest/CREDIT SUISSE SECURITIES (USA) LLC03.pdf'],\n",
       "      dtype='<U79')"
      ]
     },
     "execution_count": 40,
     "metadata": {},
     "output_type": "execute_result"
    }
   ],
   "source": [
    "# random sample of files from s3\n",
    "test_key"
   ]
  },
  {
   "cell_type": "code",
   "execution_count": 41,
   "metadata": {},
   "outputs": [],
   "source": [
    "# content modified from Amazon AWS Textract repository (refer to URL below)\n",
    "# https://github.com/aws-samples/amazon-textract-code-samples/blob/master/python/12-pdf-text.py\n",
    "\n",
    "def startJob(s3BucketName:str, objectName:str) -> str:\n",
    "    \"\"\"\n",
    "    Starts a Textract job on AWS server \n",
    "    \"\"\"\n",
    "    response = None\n",
    "    client = boto3.client('textract')\n",
    "    \n",
    "    # issue response to AWS to start Textract job for table analysis \n",
    "    response = client.start_document_analysis(\n",
    "        DocumentLocation={\n",
    "            'S3Object': {\n",
    "                'Bucket': s3BucketName,\n",
    "                'Name': objectName\n",
    "            }\n",
    "        },\n",
    "        FeatureTypes=['TABLES']\n",
    "    )\n",
    "    \n",
    "    # return response job ID for service\n",
    "    return response[\"JobId\"]\n",
    "\n",
    "def isJobComplete(jobId:str) -> str:\n",
    "    \"\"\"\n",
    "    Tracks the completion status of the Textract job when qued\n",
    "    \"\"\"\n",
    "    time.sleep(5)\n",
    "    client = boto3.client('textract')\n",
    "    response = client.get_document_analysis(JobId=jobId)\n",
    "    status = response[\"JobStatus\"]\n",
    "    print(\"Job status: {}\".format(status))\n",
    "    \n",
    "    # check current status of AWS job (ask server every 5 seconds for data)\n",
    "    while(status == \"IN_PROGRESS\"):\n",
    "        time.sleep(5)                   # lag before reporting status\n",
    "        response = client.get_document_analysis(JobId=jobId)\n",
    "        status = response[\"JobStatus\"]\n",
    "        print(\"Job status: {}\".format(status))\n",
    "    print('Final status is {}'.format(status))\n",
    "    return status\n",
    "\n",
    "def getJobResults(jobId:str) -> list:\n",
    "    \"\"\"\n",
    "    Returns the contents of the Textract job, after completion status met\n",
    "    \"\"\"\n",
    "    pages = []          # initialize list object to track pages\n",
    "\n",
    "    client = boto3.client('textract')\n",
    "    response = client.get_document_analysis(JobId=jobId)\n",
    "   \n",
    "    pages.append(response)\n",
    "    print(\"Resultset page recieved: {}\".format(len(pages)))\n",
    "    \n",
    "    nextToken = None\n",
    "    if('NextToken' in response):\n",
    "        nextToken = response['NextToken']\n",
    "    \n",
    "    # iterate through the pages and append to response figure\n",
    "    while(nextToken):\n",
    "\n",
    "        response = client.get_document_analysis(JobId=jobId, NextToken=nextToken)\n",
    "\n",
    "        pages.append(response)\n",
    "        print(\"Resultset page recieved: {}\".format(len(pages)))\n",
    "        nextToken = None\n",
    "        if('NextToken' in response):\n",
    "            nextToken = response['NextToken']\n",
    "\n",
    "    return pages\n"
   ]
  },
  {
   "cell_type": "code",
   "execution_count": 7,
   "metadata": {},
   "outputs": [
    {
     "name": "stdout",
     "output_type": "stream",
     "text": [
      "Started job with id: cb9cccd88f569fab29f3276ef9ba667a65d42d855e2835d0594e2bf5de0d51a2\n",
      "Job status: IN_PROGRESS\n",
      "Job status: IN_PROGRESS\n",
      "Job status: IN_PROGRESS\n",
      "Job status: IN_PROGRESS\n",
      "Job status: IN_PROGRESS\n",
      "Job status: IN_PROGRESS\n",
      "Job status: IN_PROGRESS\n",
      "Job status: SUCCEEDED\n",
      "Resultset page recieved: 1\n"
     ]
    }
   ],
   "source": [
    "# Start Textract job to read PDF\n",
    "# S3 storage for files on AWS site   \n",
    "for key in test_key:\n",
    "    jobId = startJob(bucket, key)\n",
    "    print(\"Started job with id: {}\".format(jobId))\n",
    "    if(isJobComplete(jobId)):\n",
    "        response = getJobResults(jobId)"
   ]
  },
  {
   "cell_type": "code",
   "execution_count": 9,
   "metadata": {},
   "outputs": [],
   "source": [
    "doc = trp.Document(response)"
   ]
  },
  {
   "cell_type": "code",
   "execution_count": 42,
   "metadata": {},
   "outputs": [],
   "source": [
    "def trp2df(table:trp.Table) -> pd.DataFrame:\n",
    "    \"\"\"\n",
    "    Function designed to convert a trp table into a dataframe\n",
    "    :param: a trp table object parsed from a pdf  \n",
    "    :return: a DataFrame object housing a textracted trp table\n",
    "    \n",
    "    Complexity -> O(n^2)\n",
    "    \"\"\"\n",
    "    N = len(table.rows)               # number of rows in table\n",
    "    M = len(table.rows[0].cells)      # number of columns in table\n",
    "    arr = [0]*N\n",
    "    \n",
    "    # itterate through each row within the provided table\n",
    "    for row in range(N):\n",
    "        # strip the text from the cell references to construct (N X M) matrix\n",
    "        arr[row] = [table.rows[row].cells[col].text.strip() for col in range(M)]\n",
    "        \n",
    "    return pd.DataFrame(arr)"
   ]
  },
  {
   "cell_type": "code",
   "execution_count": 43,
   "metadata": {},
   "outputs": [],
   "source": [
    "def readPDF(bucket:str, key:str) -> pd.DataFrame:\n",
    "    \"\"\"\n",
    "    Function to call AWS textract and perform OCR\n",
    "    \"\"\"\n",
    "    # S3 storage for files on AWS site   \n",
    "    jobId = startJob(bucket, key)   # intialize Textract job \n",
    "    print(\"Started job with id: {}\".format(jobId))\n",
    "\n",
    "    # if job is complete from AWS return response object \n",
    "    if(isJobComplete(jobId)):\n",
    "        response = getJobResults(jobId)\n",
    "    \n",
    "    # check to see if balance sheet was reached\n",
    "    bsCheck = 0\n",
    "    \n",
    "    try:\n",
    "        # format the Textract response type \n",
    "        doc = trp.Document(response)\n",
    "\n",
    "        # iterate through document pages\n",
    "        for page in doc.pages:\n",
    "            # itterate through page tables\n",
    "            for table in page.tables: \n",
    "                # convert trp-table into dataframe object\n",
    "                df = trp2df(table)\n",
    "\n",
    "                # determine if a keyword is present within the DataFrame\n",
    "                # We want to preserve only the balance sheet data\n",
    "                check = df[(df[df.columns[0]] == 'cash') | (df[df.columns[0]] == 'cash ') |\n",
    "                           (df[df.columns[0]] == 'Cash') | (df[df.columns[0]] == 'Cash ') |\n",
    "                           (df[df.columns[0]] == 'CASH') | (df[df.columns[0]] == 'CASH ') |\n",
    "                           (df[df.columns[0]] == 'Cash and cash equivalents') | \n",
    "                           (df[df.columns[0]] == 'Cash and cash equivalents ')].empty\n",
    "\n",
    "                # if figure matched exactly, we assume this is balance sheet \n",
    "                if not check:\n",
    "                    bsCheck += 1\n",
    "                    return df\n",
    "    except:\n",
    "        print('Process Failed')\n",
    "    \n",
    "    if bsCheck == 0:\n",
    "        print(\"Balance sheet wasn't found for {}\".format(key))\n",
    "        return None\n",
    "    "
   ]
  },
  {
   "cell_type": "code",
   "execution_count": 44,
   "metadata": {},
   "outputs": [],
   "source": [
    "def cleanNumeric(value:str) -> float:\n",
    "    \"\"\"\n",
    "    This function converts a string to a numeric quantity, handles weird string format\n",
    "    :param: value, string value with hidden numeric quanity  \n",
    "    :return: floating point values\n",
    "    \n",
    "    Complexity -> O(n)\n",
    "    \n",
    "    e.g.\n",
    "        In[0]: $ 19,225     ->   Out[0]: 19255\n",
    "        In[0]: $ 19,225.76  ->   Out[0]: 19255.76\n",
    "    \"\"\"\n",
    "    arr = \"\"\n",
    "    \n",
    "    # nested function for float casting type check\n",
    "    def isfloat(value) -> bool:\n",
    "        try:\n",
    "            int(value)\n",
    "            return True\n",
    "        except ValueError: return False\n",
    "    \n",
    "    # if length of sequence non-empty, iterate to convert string \n",
    "    if len(value) > 0:\n",
    "        for elm in value:\n",
    "            # retains only numeric related elements\n",
    "            if (elm == '.') or isfloat(elm):\n",
    "                arr += elm \n",
    "            else:\n",
    "                # preserves the comma seperator purpose (if present)\n",
    "                if elm != ',':\n",
    "                    arr += '0'\n",
    "                    \n",
    "    # if sequence empty, simply return zero\n",
    "    else: arr += '0'   \n",
    "    \n",
    "    return float(arr)"
   ]
  },
  {
   "cell_type": "code",
   "execution_count": null,
   "metadata": {},
   "outputs": [],
   "source": []
  },
  {
   "cell_type": "code",
   "execution_count": 124,
   "metadata": {},
   "outputs": [
    {
     "name": "stdout",
     "output_type": "stream",
     "text": [
      "[CASH ][][$ 7,166,101 ]\n",
      "[MONEY MARKET FUND ][][123,000,000 ]\n",
      "[RECEIVABLES: ][][]\n",
      "[Customers ][$ 93,872,303 ][]\n",
      "[Brokers, dealers and clearing organizations ][20,979,886 ][]\n",
      "[Securities borrowed ][17,752,700 ][]\n",
      "[Miscellaneous ][5,020,980 ][137,625,869 ]\n",
      "[TRADING SECURITIES: ][][]\n",
      "[U.S. Government and agency ][28,946,455 ][]\n",
      "[Corporate debt ][22,490,530 ][]\n",
      "[State and municipal obligations ][10,412,256 ][]\n",
      "[Equity ][1,431,506 ][63,280,747 ]\n",
      "[INVESTMENTS ][][14,838,726 ]\n",
      "[SECURED DEMAND NOTES (collateral market value, $176,571,872) ][][58,627,500 ]\n",
      "[OFFICE FURNISHINGS, EQUIPMENT AND LEASEHOLD IMPROVEMENTS, at cost less accumulated depreciation of $39,850,536 ][][26,934,931 ]\n",
      "[OTHER ASSETS ][][5,938,718 ]\n",
      "[][][$ 437,412,592 ]\n",
      "[LIABILITIES AND PRINCIPAL ][CAPITAL ][]\n",
      "[PAYABLES: ][][]\n",
      "[Principals ][$ 202,639,066 ][]\n",
      "[Customers ][51,425,532 ][]\n",
      "[Brokers, dealers and clearing organizations ][16,745,789 ][]\n",
      "[Miscellaneous ][23,525,701 ][$ 294,336,088 ]\n",
      "[SECURITIES SOLD, not yet purchased ][][675,252 ]\n",
      "[ACCRUED EXPENSES ][][22,401,252 ]\n",
      "[Total liabilities ][][317,412,592 ]\n",
      "[PRINCIPAL CAPITAL ][][120,000,000 ]\n",
      "[][][$ 437,412,592 ]\n"
     ]
    }
   ],
   "source": [
    "arr = []\n",
    "\n",
    "# iterate through document pages\n",
    "for page in doc.pages:\n",
    "    # itterate through page tables\n",
    "    for table in page.tables:    \n",
    "        # itterate through each row within the provided table\n",
    "        for row in table.rows:\n",
    "            print(row)\n",
    "            # strip the text from the cell references\n",
    "            n = len(row.cells)\n",
    "            arr.append([row.cells[i].text.strip() for i in range(n)])"
   ]
  },
  {
   "cell_type": "code",
   "execution_count": 206,
   "metadata": {},
   "outputs": [
    {
     "data": {
      "text/html": [
       "<div>\n",
       "<style scoped>\n",
       "    .dataframe tbody tr th:only-of-type {\n",
       "        vertical-align: middle;\n",
       "    }\n",
       "\n",
       "    .dataframe tbody tr th {\n",
       "        vertical-align: top;\n",
       "    }\n",
       "\n",
       "    .dataframe thead th {\n",
       "        text-align: right;\n",
       "    }\n",
       "</style>\n",
       "<table border=\"1\" class=\"dataframe\">\n",
       "  <thead>\n",
       "    <tr style=\"text-align: right;\">\n",
       "      <th></th>\n",
       "      <th>0</th>\n",
       "      <th>1</th>\n",
       "      <th>2</th>\n",
       "    </tr>\n",
       "  </thead>\n",
       "  <tbody>\n",
       "    <tr>\n",
       "      <th>0</th>\n",
       "      <td>CASH</td>\n",
       "      <td></td>\n",
       "      <td>$ 7,166,101</td>\n",
       "    </tr>\n",
       "    <tr>\n",
       "      <th>1</th>\n",
       "      <td>MONEY MARKET FUND</td>\n",
       "      <td></td>\n",
       "      <td>123,000,000</td>\n",
       "    </tr>\n",
       "    <tr>\n",
       "      <th>2</th>\n",
       "      <td>RECEIVABLES:</td>\n",
       "      <td></td>\n",
       "      <td></td>\n",
       "    </tr>\n",
       "    <tr>\n",
       "      <th>3</th>\n",
       "      <td>Customers</td>\n",
       "      <td>$ 93,872,303</td>\n",
       "      <td></td>\n",
       "    </tr>\n",
       "    <tr>\n",
       "      <th>4</th>\n",
       "      <td>Brokers, dealers and clearing organizations</td>\n",
       "      <td>20,979,886</td>\n",
       "      <td></td>\n",
       "    </tr>\n",
       "  </tbody>\n",
       "</table>\n",
       "</div>"
      ],
      "text/plain": [
       "                                             0             1            2\n",
       "0                                         CASH                $ 7,166,101\n",
       "1                            MONEY MARKET FUND                123,000,000\n",
       "2                                 RECEIVABLES:                           \n",
       "3                                    Customers  $ 93,872,303             \n",
       "4  Brokers, dealers and clearing organizations    20,979,886             "
      ]
     },
     "execution_count": 206,
     "metadata": {},
     "output_type": "execute_result"
    }
   ],
   "source": [
    "pd.DataFrame(np.array(arr)).head()"
   ]
  },
  {
   "cell_type": "code",
   "execution_count": null,
   "metadata": {},
   "outputs": [],
   "source": []
  },
  {
   "cell_type": "markdown",
   "metadata": {},
   "source": [
    "## Asynchronous over Multiple PDFs"
   ]
  },
  {
   "cell_type": "code",
   "execution_count": 53,
   "metadata": {},
   "outputs": [],
   "source": [
    "subsetFolder = np.array(session.list_s3_files(bucket, 'Input/SubSets/'))"
   ]
  },
  {
   "cell_type": "code",
   "execution_count": 54,
   "metadata": {},
   "outputs": [
    {
     "data": {
      "text/plain": [
       "array(['Input/SubSets/', 'Input/SubSets/1000148-02_subset.pdf',\n",
       "       'Input/SubSets/1000148-03_subset.pdf', ...,\n",
       "       'Input/SubSets/99947-17_subset.pdf',\n",
       "       'Input/SubSets/99947-18_subset.pdf',\n",
       "       'Input/SubSets/99947-19_subset.pdf'], dtype='<U35')"
      ]
     },
     "execution_count": 54,
     "metadata": {},
     "output_type": "execute_result"
    }
   ],
   "source": [
    "subsetFolder"
   ]
  },
  {
   "cell_type": "code",
   "execution_count": 45,
   "metadata": {},
   "outputs": [],
   "source": [
    "# testKey = np.random.choice(subsetFolder, 1)\n",
    "testKey = ['Input/SubSets/932233-02_subset.pdf']"
   ]
  },
  {
   "cell_type": "code",
   "execution_count": 46,
   "metadata": {},
   "outputs": [
    {
     "data": {
      "text/plain": [
       "['Input/SubSets/932233-02_subset.pdf']"
      ]
     },
     "execution_count": 46,
     "metadata": {},
     "output_type": "execute_result"
    }
   ],
   "source": [
    "testKey"
   ]
  },
  {
   "cell_type": "code",
   "execution_count": 120,
   "metadata": {},
   "outputs": [
    {
     "name": "stdout",
     "output_type": "stream",
     "text": [
      "Started job with id: 3b90f9f838db76c338dc9d518035e7417679425f9f705842bab8dbee60b80859\n",
      "Job status: IN_PROGRESS\n",
      "Job status: IN_PROGRESS\n",
      "Job status: IN_PROGRESS\n",
      "Job status: SUCCEEDED\n",
      "Final status is SUCCEEDED\n",
      "Resultset page recieved: 1\n",
      "Resultset page recieved: 2\n",
      "\tSaved 932233-02.csv file to s3 bucket\n"
     ]
    }
   ],
   "source": [
    "csvDirectory = np.array(session.list_s3_files(bucket, key))\n",
    "\n",
    "for key in testKey:\n",
    "    # baseFile name (CIK)-{Year}\n",
    "    baseFile = key.split('/')[-1].split('_')[0]\n",
    "    fileName = baseFile+'.csv'\n",
    "    \n",
    "    # if file is not found in directory \n",
    "    if fileName not in csvDirectory:\n",
    "        \n",
    "        # temporary data frame object for balance sheet information\n",
    "        tempDF = readPDF(\"ran-s3-systemic-risk\", key)\n",
    "\n",
    "        if (tempDF.empty != True) or (tempDF != None):\n",
    "            # writing data frame to .csv file\n",
    "            tempDF.to_csv(fileName)\n",
    "            \n",
    "            # the subfolder \n",
    "            subFolder = 'Output/BalanceSheet/'+fileName\n",
    "            \n",
    "            # save contents to AWS S3 bucket\n",
    "            with open(fileName, 'rb') as data:\n",
    "                client.put_object(Bucket=bucket, Key=k, Body=data)\n",
    "\n",
    "            # remove local file after it has been created\n",
    "            os.remove(fileName)\n",
    "            print('\\tSaved {} file to s3 bucket'.format(baseFile+'.csv'))\n",
    "        else:\n",
    "            print('{} had no balance sheet'.format(basefile))\n",
    "            "
   ]
  },
  {
   "cell_type": "code",
   "execution_count": null,
   "metadata": {},
   "outputs": [],
   "source": []
  },
  {
   "cell_type": "code",
   "execution_count": null,
   "metadata": {},
   "outputs": [],
   "source": []
  },
  {
   "cell_type": "code",
   "execution_count": null,
   "metadata": {},
   "outputs": [],
   "source": []
  },
  {
   "cell_type": "code",
   "execution_count": null,
   "metadata": {},
   "outputs": [],
   "source": []
  },
  {
   "cell_type": "code",
   "execution_count": null,
   "metadata": {},
   "outputs": [],
   "source": []
  }
 ],
 "metadata": {
  "kernelspec": {
   "display_name": "conda_python3",
   "language": "python",
   "name": "conda_python3"
  },
  "language_info": {
   "codemirror_mode": {
    "name": "ipython",
    "version": 3
   },
   "file_extension": ".py",
   "mimetype": "text/x-python",
   "name": "python",
   "nbconvert_exporter": "python",
   "pygments_lexer": "ipython3",
   "version": "3.6.10"
  }
 },
 "nbformat": 4,
 "nbformat_minor": 4
}
