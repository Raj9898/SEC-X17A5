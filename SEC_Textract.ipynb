{
 "cells": [
  {
   "cell_type": "code",
   "execution_count": 2,
   "metadata": {},
   "outputs": [
    {
     "name": "stdout",
     "output_type": "stream",
     "text": [
      "Collecting pip\n",
      "  Downloading pip-20.2.4-py2.py3-none-any.whl (1.5 MB)\n",
      "Installing collected packages: pip\n",
      "  Attempting uninstall: pip\n",
      "    Found existing installation: pip 20.0.2\n",
      "    Uninstalling pip-20.0.2:\n",
      "      Successfully uninstalled pip-20.0.2\n",
      "Successfully installed pip-20.2.4\n",
      "Collecting smart_open\n",
      "  Downloading smart_open-3.0.0.tar.gz (113 kB)\n",
      "Collecting minecart\n",
      "  Downloading minecart-0.3.0-py3-none-any.whl (23 kB)\n",
      "Requirement already satisfied: requests in /home/ec2-user/anaconda3/envs/python3/lib/python3.6/site-packages (from smart_open) (2.22.0)\n",
      "Requirement already satisfied: six in /home/ec2-user/anaconda3/envs/python3/lib/python3.6/site-packages (from minecart) (1.14.0)\n",
      "Collecting pdfminer3k\n",
      "  Downloading pdfminer3k-1.3.4-py3-none-any.whl (100 kB)\n",
      "Requirement already satisfied: idna<2.9,>=2.5 in /home/ec2-user/anaconda3/envs/python3/lib/python3.6/site-packages (from requests->smart_open) (2.8)\n",
      "Requirement already satisfied: chardet<3.1.0,>=3.0.2 in /home/ec2-user/anaconda3/envs/python3/lib/python3.6/site-packages (from requests->smart_open) (3.0.4)\n",
      "Requirement already satisfied: certifi>=2017.4.17 in /home/ec2-user/anaconda3/envs/python3/lib/python3.6/site-packages (from requests->smart_open) (2020.6.20)\n",
      "Requirement already satisfied: urllib3!=1.25.0,!=1.25.1,<1.26,>=1.21.1 in /home/ec2-user/anaconda3/envs/python3/lib/python3.6/site-packages (from requests->smart_open) (1.25.10)\n",
      "Requirement already satisfied: ply in /home/ec2-user/anaconda3/envs/python3/lib/python3.6/site-packages (from pdfminer3k->minecart) (3.11)\n",
      "Building wheels for collected packages: smart-open\n",
      "  Building wheel for smart-open (setup.py): started\n",
      "  Building wheel for smart-open (setup.py): finished with status 'done'\n",
      "  Created wheel for smart-open: filename=smart_open-3.0.0-py3-none-any.whl size=107097 sha256=040ae3ab8793b056e1d35b05284b1ff0638ed1171d7e9aaecdc65a7a6f216dea\n",
      "  Stored in directory: /home/ec2-user/.cache/pip/wheels/88/2a/d4/f2e9023989d4d4b3574f268657cb6cd23994665a038803f547\n",
      "Successfully built smart-open\n",
      "Installing collected packages: smart-open, pdfminer3k, minecart\n",
      "Successfully installed minecart-0.3.0 pdfminer3k-1.3.4 smart-open-3.0.0\n",
      "Collecting textract-trp\n",
      "  Downloading textract_trp-0.1.3-py3-none-any.whl (5.8 kB)\n",
      "Installing collected packages: textract-trp\n",
      "Successfully installed textract-trp-0.1.3\n"
     ]
    }
   ],
   "source": [
    "%%bash\n",
    "pip install --upgrade pip\n",
    "pip install smart_open minecart\n",
    "pip install textract-trp"
   ]
  },
  {
   "cell_type": "code",
   "execution_count": 3,
   "metadata": {},
   "outputs": [],
   "source": [
    "import time \n",
    "import os\n",
    "import trp\n",
    "import random \n",
    "import boto3\n",
    "import minecart\n",
    "import numpy as np\n",
    "import pandas as pd\n",
    "\n",
    "from smart_open import open\n",
    "from sagemaker.session import Session\n",
    "from io import BytesIO\n",
    "\n",
    "%matplotlib inline"
   ]
  },
  {
   "cell_type": "code",
   "execution_count": 4,
   "metadata": {},
   "outputs": [],
   "source": [
    "# initiate s3 bucket and corresponding data folder\n",
    "# bucket = \"ran-s3-systemic-risk\"\n",
    "# data_folder =\"Input/X-17A-5/\"\n",
    "\n",
    "bucket = \"ran-s3-systemic-risk\"\n",
    "data_folder =\"FOCUS-OCR/SubsetTest/\"\n",
    "\n",
    "# balance_sheet_idx = 3  # the page of the report you care about\n",
    "\n",
    "# Amazon Textract client and Sagemaker session\n",
    "textract = boto3.client('textract')\n",
    "s3 = boto3.client('s3')\n",
    "session = Session()\n",
    "\n",
    "# discover all of the pdfs that you want to parse\n",
    "paths = np.array(session.list_s3_files(bucket, data_folder))"
   ]
  },
  {
   "cell_type": "code",
   "execution_count": 45,
   "metadata": {},
   "outputs": [],
   "source": [
    "# testKey = np.random.choice(subsetFolder, 1)\n",
    "testKey = ['Input/SubSets/932233-02_subset.pdf']"
   ]
  },
  {
   "cell_type": "markdown",
   "metadata": {},
   "source": [
    "# AWS Asynchronous Textract Script (requesting Job)\n",
    "**Content modified from Amazon AWS Textract repository (refer to [URL](https://github.com/aws-samples/amazon-textract-code-samples/blob/master/python/12-pdf-text.py) below)** "
   ]
  },
  {
   "cell_type": "code",
   "execution_count": 5,
   "metadata": {},
   "outputs": [],
   "source": [
    "def startJob(s3BucketName:str, objectName:str) -> str:\n",
    "    \"\"\"\n",
    "    Starts a Textract job on AWS server \n",
    "    \"\"\"\n",
    "    response = None\n",
    "    client = boto3.client('textract')\n",
    "    \n",
    "    # issue response to AWS to start Textract job for table analysis \n",
    "    response = client.start_document_analysis(\n",
    "        DocumentLocation={\n",
    "            'S3Object': {\n",
    "                'Bucket': s3BucketName,\n",
    "                'Name': objectName\n",
    "            }\n",
    "        },\n",
    "        FeatureTypes=['TABLES']\n",
    "    )\n",
    "    \n",
    "    # return response job ID for service\n",
    "    return response[\"JobId\"]"
   ]
  },
  {
   "cell_type": "code",
   "execution_count": 6,
   "metadata": {},
   "outputs": [],
   "source": [
    "def isJobComplete(jobId:str) -> str:\n",
    "    \"\"\"\n",
    "    Tracks the completion status of the Textract job when qued\n",
    "    \"\"\"\n",
    "    time.sleep(5)\n",
    "    client = boto3.client('textract')\n",
    "    response = client.get_document_analysis(JobId=jobId)\n",
    "    status = response[\"JobStatus\"]\n",
    "    print(\"Job status: {}\".format(status))\n",
    "    \n",
    "    # check current status of AWS job (ask server every 5 seconds for data)\n",
    "    while(status == \"IN_PROGRESS\"):\n",
    "        time.sleep(5)                   # lag before reporting status\n",
    "        response = client.get_document_analysis(JobId=jobId)\n",
    "        status = response[\"JobStatus\"]\n",
    "        print(\"Job status: {}\".format(status))\n",
    "    \n",
    "    return status"
   ]
  },
  {
   "cell_type": "code",
   "execution_count": 7,
   "metadata": {},
   "outputs": [],
   "source": [
    "def getJobResults(jobId:str) -> list:\n",
    "    \"\"\"\n",
    "    Returns the contents of the Textract job, after completion status met\n",
    "    \"\"\"\n",
    "    pages = []          # initialize list object to track pages\n",
    "\n",
    "    client = boto3.client('textract')\n",
    "    response = client.get_document_analysis(JobId=jobId)\n",
    "   \n",
    "    pages.append(response)\n",
    "    print(\"Resultset page recieved: {}\".format(len(pages)))\n",
    "    \n",
    "    nextToken = None\n",
    "    if('NextToken' in response):\n",
    "        nextToken = response['NextToken']\n",
    "    \n",
    "    # iterate through the pages and append to response figure\n",
    "    while(nextToken):\n",
    "        response = client.get_document_analysis(JobId=jobId, NextToken=nextToken)\n",
    "        pages.append(response)\n",
    "        print(\"Resultset page recieved: {}\".format(len(pages)))\n",
    "        nextToken = None\n",
    "        if('NextToken' in response):\n",
    "            nextToken = response['NextToken']\n",
    "\n",
    "    return pages"
   ]
  },
  {
   "cell_type": "code",
   "execution_count": 160,
   "metadata": {},
   "outputs": [],
   "source": [
    "def runJob(bucket:str, key:str):\n",
    "    \"\"\"\n",
    "    Function designed to call an AWS Textract \n",
    "    \"\"\"\n",
    "    # S3 storage for files on AWS site   \n",
    "    jobId = startJob(bucket, key)   # intialize Textract job \n",
    "    print(\"Started job with id: {}\".format(jobId))\n",
    "\n",
    "    # if job is complete from AWS return response object \n",
    "    if(isJobComplete(jobId)):\n",
    "        response = getJobResults(jobId)\n",
    "        \n",
    "    return response"
   ]
  },
  {
   "cell_type": "markdown",
   "metadata": {},
   "source": [
    "# OCR Wrapper Functions\n",
    "**The scripts perform an OCR job from AWS Textract, converting tabular data into dataframes**"
   ]
  },
  {
   "cell_type": "code",
   "execution_count": 8,
   "metadata": {},
   "outputs": [],
   "source": [
    "def trp2df(table:trp.Table) -> pd.DataFrame:\n",
    "    \"\"\"\n",
    "    Function designed to convert a trp table into a dataframe\n",
    "    :param table: a trp table object parsed from a pdf  \n",
    "    :return: a DataFrame object housing a textracted trp table\n",
    "    \n",
    "    Complexity -> O(n^2)\n",
    "    \"\"\"\n",
    "    N = len(table.rows)               # number of rows in table\n",
    "    M = len(table.rows[0].cells)      # number of columns in table\n",
    "    arr = [0]*N\n",
    "    \n",
    "    # itterate through each row within the provided table\n",
    "    for row in range(N):\n",
    "        \n",
    "        # strip the text from the cell references to construct (N X M) matrix\n",
    "        arr[row] = [table.rows[row].cells[col].text.strip() for col in range(M)]\n",
    "        \n",
    "    return pd.DataFrame(arr)"
   ]
  },
  {
   "cell_type": "code",
   "execution_count": 208,
   "metadata": {},
   "outputs": [],
   "source": [
    "def readPDF(response:list) -> pd.DataFrame:\n",
    "    \"\"\"\n",
    "    Function to transform AWS Textract object to a pdf\n",
    "    :param response: AWS Textract response object\n",
    "    \"\"\"\n",
    "    # check to see if balance sheet was reached\n",
    "    bsCheck = 0\n",
    "    \n",
    "    # in the event multiple tables detected on one page (concat them)\n",
    "    catDF = []\n",
    "    \n",
    "    # format the Textract response type \n",
    "    doc = trp.Document(response)\n",
    "\n",
    "    # iterate through document pages\n",
    "    for page in doc.pages:\n",
    "        # itterate through page tables\n",
    "        for table in page.tables: \n",
    "            # convert trp-table into dataframe object\n",
    "            df = trp2df(table)\n",
    "            \n",
    "            # remove columns that are completly empty \n",
    "            empty_cols = [col for col in df.columns if (df[col] == '').all()]\n",
    "            df = df.drop(empty_cols, axis=1)\n",
    "            \n",
    "            # determine if a keyword is present within the DataFrame\n",
    "            # We want to preserve only the balance sheet data (asset table bias)\n",
    "            check = df[(df[df.columns[0]] == 'cash') | (df[df.columns[0]] == 'cash ') |\n",
    "                       (df[df.columns[0]] == 'Cash') | (df[df.columns[0]] == 'Cash ') |\n",
    "                       (df[df.columns[0]] == 'CASH') | (df[df.columns[0]] == 'CASH ') |\n",
    "                       (df[df.columns[0]] == 'Cash and cash equivalents') | \n",
    "                       (df[df.columns[0]] == 'Cash and cash equivalents ')].empty\n",
    "            \n",
    "            # if figure matched exactly, we assume this is balance sheet \n",
    "            if not check:\n",
    "                bsCheck += 1\n",
    "                return df\n",
    "\n",
    "    # if no balance sheet was delivered, then return None\n",
    "    if bsCheck == 0:\n",
    "        print(\"Balance sheet wasn't found for {}\".format(key))\n",
    "        return None\n",
    "    "
   ]
  },
  {
   "cell_type": "markdown",
   "metadata": {},
   "source": [
    "## Extract Balance Sheet information"
   ]
  },
  {
   "cell_type": "code",
   "execution_count": 152,
   "metadata": {},
   "outputs": [],
   "source": [
    "subsetFolder = np.array(session.list_s3_files(bucket, 'Input/SubSets/'))[1:]"
   ]
  },
  {
   "cell_type": "code",
   "execution_count": 153,
   "metadata": {},
   "outputs": [
    {
     "data": {
      "text/plain": [
       "array(['Input/SubSets/1000148-02_subset.pdf',\n",
       "       'Input/SubSets/1000148-03_subset.pdf',\n",
       "       'Input/SubSets/1000148-04_subset.pdf', ...,\n",
       "       'Input/SubSets/99947-17_subset.pdf',\n",
       "       'Input/SubSets/99947-18_subset.pdf',\n",
       "       'Input/SubSets/99947-19_subset.pdf'], dtype='<U35')"
      ]
     },
     "execution_count": 153,
     "metadata": {},
     "output_type": "execute_result"
    }
   ],
   "source": [
    "subsetFolder"
   ]
  },
  {
   "cell_type": "code",
   "execution_count": 213,
   "metadata": {},
   "outputs": [
    {
     "name": "stdout",
     "output_type": "stream",
     "text": [
      "1000148-02.csv has been downloaded\n",
      "1000148-03.csv has been downloaded\n",
      "1000148-04.csv has been downloaded\n",
      "1000148-05.csv has been downloaded\n",
      "1000148-06.csv has been downloaded\n",
      "==========================\n",
      "X-17A-5 OCR is completed\n"
     ]
    }
   ],
   "source": [
    "# script to perform OCR (using Textract) for X-17A-5 subsets\n",
    "outFolder = 'Output/BalanceSheet/'\n",
    "csvDirectory = np.array(session.list_s3_files(bucket, outFolder))\n",
    "errorLog = []\n",
    "\n",
    "# iterate through X-17A-5 subsets stored in s3\n",
    "for key in subsetFolder[:5]:\n",
    "    # baseFile name (CIK)-{Year}\n",
    "    baseFile = key.split('/')[-1].split('_')[0]\n",
    "    fileName = baseFile+'.csv'\n",
    "    \n",
    "    # if file is not found in directory \n",
    "    if outFolder+fileName not in csvDirectory:\n",
    "\n",
    "        # temporary data frame object for balance sheet information\n",
    "        res = runJob(\"ran-s3-systemic-risk\", key)\n",
    "        \n",
    "        if len(res) > 0:\n",
    "            tempDF = readPDF(res)\n",
    "            \n",
    "            # checks for type of return \n",
    "            if type(tempDF) == pd.DataFrame:\n",
    "                # writing data frame to .csv file\n",
    "                tempDF.to_csv(fileName)\n",
    "\n",
    "                # the folder used to export to\n",
    "                xFolder = 'Output/BalanceSheet/'+fileName\n",
    "\n",
    "                # save contents to AWS S3 bucket\n",
    "                with open(fileName, 'rb') as data:\n",
    "                    s3.put_object(Bucket=bucket, Key=xFolder, Body=data)\n",
    "\n",
    "                # remove local file after it has been created\n",
    "                os.remove(fileName)\n",
    "                print('\\tSaved {} file to s3 bucket'.format(baseFile+'.csv'))\n",
    "            else:\n",
    "                print('{} no Balance Sheet found'.format(baseFile))\n",
    "                errorLog.append(baseFile)\n",
    "        else:\n",
    "            print('{} could not be parsed'.format(baseFile))\n",
    "            errorLog.append(baseFile)\n",
    "    else:\n",
    "        print('{} has been downloaded'.format(fileName))\n",
    "\n",
    "print('==========================\\nX-17A-5 OCR is completed')"
   ]
  },
  {
   "cell_type": "markdown",
   "metadata": {},
   "source": [
    "# Helper Functions"
   ]
  },
  {
   "cell_type": "code",
   "execution_count": 124,
   "metadata": {},
   "outputs": [],
   "source": [
    "def cleanNumeric(value:str) -> float:\n",
    "    \"\"\"\n",
    "    This function converts a string to a numeric quantity, handles weird string format\n",
    "    :param: value, string value with hidden numeric quanity  \n",
    "    :return: floating point values\n",
    "    \n",
    "    Complexity -> O(n)\n",
    "    \n",
    "    e.g.\n",
    "        In[0]: $ 19,225     ->   Out[0]: 19255\n",
    "        In[0]: $ 19,225.76  ->   Out[0]: 19255.76\n",
    "    \"\"\"\n",
    "    arr = \"\"\n",
    "    \n",
    "    # if length of sequence non-empty, iterate to convert string \n",
    "    if len(value) > 0:\n",
    "        for elm in value:\n",
    "            # retains only numeric related elements\n",
    "            if (elm == '.') or isfloat(elm):\n",
    "                arr += elm \n",
    "            else:\n",
    "                # preserves the comma seperator purpose (if present)\n",
    "                if elm != ',':\n",
    "                    arr += '0'\n",
    "                    \n",
    "    # if sequence empty, simply return zero\n",
    "    else: arr += '0'   \n",
    "    \n",
    "    return float(arr)"
   ]
  },
  {
   "cell_type": "code",
   "execution_count": 13,
   "metadata": {},
   "outputs": [],
   "source": [
    "def isfloat(value) -> bool:\n",
    "    \"\"\"\n",
    "    This function checks whether an input can be cast to a float\n",
    "    \"\"\"\n",
    "    try:\n",
    "        int(value)\n",
    "        return True\n",
    "    except ValueError: \n",
    "        return False"
   ]
  },
  {
   "cell_type": "code",
   "execution_count": null,
   "metadata": {},
   "outputs": [],
   "source": []
  },
  {
   "cell_type": "code",
   "execution_count": null,
   "metadata": {},
   "outputs": [],
   "source": []
  },
  {
   "cell_type": "code",
   "execution_count": null,
   "metadata": {},
   "outputs": [],
   "source": []
  }
 ],
 "metadata": {
  "kernelspec": {
   "display_name": "conda_python3",
   "language": "python",
   "name": "conda_python3"
  },
  "language_info": {
   "codemirror_mode": {
    "name": "ipython",
    "version": 3
   },
   "file_extension": ".py",
   "mimetype": "text/x-python",
   "name": "python",
   "nbconvert_exporter": "python",
   "pygments_lexer": "ipython3",
   "version": "3.6.10"
  }
 },
 "nbformat": 4,
 "nbformat_minor": 4
}
