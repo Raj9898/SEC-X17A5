{
 "cells": [
  {
   "cell_type": "code",
   "execution_count": 15,
   "metadata": {},
   "outputs": [],
   "source": [
    "import os\n",
    "import boto3\n",
    "\n",
    "import pandas as pd\n",
    "import numpy as np\n",
    "from sagemaker.session import Session"
   ]
  },
  {
   "cell_type": "code",
   "execution_count": 5,
   "metadata": {},
   "outputs": [],
   "source": [
    "# initiate s3 bucket and corresponding data folder\n",
    "# bucket = \"ran-s3-systemic-risk\"\n",
    "# data_folder =\"Input/X-17A-5/\"\n",
    "\n",
    "bucket = \"ran-s3-systemic-risk\"\n",
    "data_folder =\"Output/BalanceSheet/\"\n",
    "\n",
    "# Amazon Textract client and Sagemaker session\n",
    "textract = boto3.client('textract')\n",
    "s3 = boto3.client('s3')\n",
    "session = Session()\n",
    "\n",
    "# discover all of the pdfs that you want to parse\n",
    "paths = np.array(session.list_s3_files(bucket, data_folder))"
   ]
  },
  {
   "cell_type": "code",
   "execution_count": 12,
   "metadata": {},
   "outputs": [],
   "source": [
    "selections = np.random.choice(paths[1:], 100)"
   ]
  },
  {
   "cell_type": "code",
   "execution_count": 33,
   "metadata": {},
   "outputs": [],
   "source": [
    "assetNames = []"
   ]
  },
  {
   "cell_type": "code",
   "execution_count": 34,
   "metadata": {},
   "outputs": [],
   "source": [
    "for file in selections:\n",
    "\n",
    "    # retrieving downloaded files from s3 bucket\n",
    "    s3.download_file(bucket, file, 'temp.pdf')\n",
    "    \n",
    "    df = pd.read_csv('temp.pdf')\n",
    "    names = df[df.columns[1]].dropna().values\n",
    "    assetNames.append(names)\n",
    "    \n",
    "    # remove local file after it has been created\n",
    "    os.remove('temp.pdf')"
   ]
  },
  {
   "cell_type": "code",
   "execution_count": 37,
   "metadata": {},
   "outputs": [
    {
     "data": {
      "text/plain": [
       "[array(['Cash', 'Deposit with clearing broker', 'Trade receivables',\n",
       "        'Securities owned, at market value', 'Due from Parent',\n",
       "        'Furniture, equipment, and leasehold improvements (net of accumulated depreciation and amortization of $100,436)',\n",
       "        'Other assets', \"Liabilities and stockholder's equity\",\n",
       "        'Accounts payable and accrued liabilities',\n",
       "        'Obligation under capital lease', \"Stockholder's equity:\",\n",
       "        'Common stock without par value, $10 stated value,',\n",
       "        '100,000 authorized shares, 95,500 shares issued;',\n",
       "        '71,965 shares outstanding', 'Additional paid-in capital',\n",
       "        'Retained earnings',\n",
       "        'Less: Treasury stock, at cost (23,535 shares)',\n",
       "        \"Total stockholder's equity\"], dtype=object),\n",
       " array(['Cash', 'Securities owned, at market value',\n",
       "        'Due from clearing broker', 'Notes receivable from Parent',\n",
       "        'Due from Parent and other related parties',\n",
       "        'Furniture, equipment and leasehold improvements',\n",
       "        '(Net of accumulated depreciation and amortization of $397,489)',\n",
       "        'Other assets', 'TOTAL ASSETS',\n",
       "        \"LIABILITIES AND STOCKHOLDER'S EQUITY\", 'Liabilities:',\n",
       "        'Accounts payable and other liabilities', 'Due to broker',\n",
       "        'Deferred rent', 'TOTAL LIABILITIES', \"Stockholder's Equity:\",\n",
       "        'Common stock ($1 par value; 50,000 shares authorized, 25, 000',\n",
       "        'issued and outstanding)', 'Additional paid-in capital',\n",
       "        'Accumulated deficit', \"TOTAL STOCKHOLDER'S EQUITY\",\n",
       "        \"TOTAL LIABILITIES AND STOCKHOLDER'S EQUITY\"], dtype=object)]"
      ]
     },
     "execution_count": 37,
     "metadata": {},
     "output_type": "execute_result"
    }
   ],
   "source": [
    "assetNames[:2]"
   ]
  },
  {
   "cell_type": "code",
   "execution_count": 40,
   "metadata": {},
   "outputs": [],
   "source": [
    "def intersection(mat:np.ndarray) -> np.ndarray:\n",
    "# Finds the intersection of all array within the matrix\n",
    "# :param: mat (np.array)\n",
    "\n",
    "    interArr = mat[0]\n",
    "    # itterate through the asset names \n",
    "    for i in range(len(mat)-1):\n",
    "        # find the intersection amongst all array\n",
    "        interArr = np.intersect1d(interArr, mat[i+1])\n",
    "        \n",
    "    return interArr"
   ]
  },
  {
   "cell_type": "code",
   "execution_count": 38,
   "metadata": {},
   "outputs": [
    {
     "data": {
      "text/plain": [
       "array(['Additional paid-in capital', 'Cash', 'Liabilities:',\n",
       "       'TOTAL ASSETS'], dtype=object)"
      ]
     },
     "execution_count": 38,
     "metadata": {},
     "output_type": "execute_result"
    }
   ],
   "source": [
    "np.intersect1d(assetNames[1], assetNames[2])"
   ]
  },
  {
   "cell_type": "code",
   "execution_count": 47,
   "metadata": {},
   "outputs": [
    {
     "data": {
      "text/plain": [
       "array(['ASSETS -', 'Cash and cash equivalents', 'Receivables:',\n",
       "       'Clearing brokers', 'Commissions', 'Other',\n",
       "       'Deposits with clearing brokers',\n",
       "       'Securities owned, at market value', 'Other assets', '-',\n",
       "       \"LIABILITIES AND SHAREHOLDER'S EQUITY\", 'LIABILITIES:',\n",
       "       'Commissions payable', 'Accounts payable',\n",
       "       'Due to clearing broker',\n",
       "       'Securities sold, but not yet purchased, at market value',\n",
       "       'Due to affiliates (Note 3)', 'TOTAL LIABILITIES',\n",
       "       'CONTINGENCIES (Note 4)', \"SHAREHOLDER'S EQUITY (Note 2):\",\n",
       "       'Common stock, $.01 par value; 750,000 shares authorized;',\n",
       "       '10,000 shares issued and outstanding',\n",
       "       'Additional paid-in capital', 'Retained earnings',\n",
       "       \"TOTAL SHAREHOLDER'S EQUITY\"], dtype=object)"
      ]
     },
     "execution_count": 47,
     "metadata": {},
     "output_type": "execute_result"
    }
   ],
   "source": [
    "intersection(assetNames[42:43])"
   ]
  },
  {
   "cell_type": "code",
   "execution_count": null,
   "metadata": {},
   "outputs": [],
   "source": []
  },
  {
   "cell_type": "code",
   "execution_count": null,
   "metadata": {},
   "outputs": [],
   "source": []
  }
 ],
 "metadata": {
  "kernelspec": {
   "display_name": "conda_python3",
   "language": "python",
   "name": "conda_python3"
  },
  "language_info": {
   "codemirror_mode": {
    "name": "ipython",
    "version": 3
   },
   "file_extension": ".py",
   "mimetype": "text/x-python",
   "name": "python",
   "nbconvert_exporter": "python",
   "pygments_lexer": "ipython3",
   "version": "3.6.10"
  }
 },
 "nbformat": 4,
 "nbformat_minor": 4
}
