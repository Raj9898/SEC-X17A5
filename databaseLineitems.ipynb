{
 "cells": [
  {
   "cell_type": "code",
   "execution_count": 53,
   "metadata": {},
   "outputs": [],
   "source": [
    "import os\n",
    "import re\n",
    "import boto3\n",
    "import json\n",
    "\n",
    "import pandas as pd\n",
    "import numpy as np\n",
    "\n",
    "from sagemaker.session import Session"
   ]
  },
  {
   "cell_type": "code",
   "execution_count": 54,
   "metadata": {},
   "outputs": [],
   "source": [
    "# initiate s3 bucket and corresponding data folder\n",
    "bucket = \"ran-s3-systemic-risk\"\n",
    "data_folder =\"Output/X-17A-5-BS/\"\n",
    "\n",
    "# Amazon Textract client and Sagemaker session\n",
    "s3 = boto3.client('s3')\n",
    "session = Session()"
   ]
  },
  {
   "cell_type": "code",
   "execution_count": 55,
   "metadata": {},
   "outputs": [],
   "source": [
    "def bsSplit(array: np.ndarray) -> tuple:\n",
    "    \"\"\"\n",
    "    Function splits an array by bisection, into asset and liability & equity terms. Assumes that line items\n",
    "    are recorded according to standard accounting practices in orientation. \n",
    "    \n",
    "    :param: (type np.ndarray)\n",
    "        An array of balance sheet line items for \n",
    "        \n",
    "    :return: (type tuple)\n",
    "        Return a tuple of arrays; left is the asset items, and right is the liability & equity items \n",
    "    \"\"\"\n",
    "            \n",
    "    # iterate through the line items as provided by the array\n",
    "    for i, item in enumerate(array):\n",
    "        # search string for presence of word 'liabilties' or 'liability' \n",
    "        val = re.search('liabilities|liability', item, flags=re.I)\n",
    "\n",
    "        # if we find the term 'liability' or 'liabilities' we split the line items and break inner loop\n",
    "        if val is not None:\n",
    "\n",
    "            # partition by the enumerated index for asset and liability portions\n",
    "            lhs = array[:i]\n",
    "            rhs = array[i:]\n",
    "            return (lhs, rhs)"
   ]
  },
  {
   "cell_type": "code",
   "execution_count": 59,
   "metadata": {},
   "outputs": [],
   "source": [
    "def lineItems(fileNames:np.ndarray) -> tuple:\n",
    "    \"\"\"\n",
    "    Retrieving balance sheet information line item names for s3 files\n",
    "    \n",
    "    :param: (type np.ndarray)\n",
    "        An array of file names for .csv files from s3 to iterate through\n",
    "        \n",
    "    :return: (type tuple)\n",
    "        Return a tuple of arrays; left is the asset items, and right is the liability & equity items \n",
    "    \"\"\"\n",
    "    \n",
    "    # size of iterable place holders \n",
    "    n = fileNames.size\n",
    "    \n",
    "    # initialize asset and liability list to store items\n",
    "    Asset = [0] * n\n",
    "    LiabilityandEquity = [0] * n\n",
    "\n",
    "    # iterate through files from s3 bucket \n",
    "    for i, file in enumerate(fileNames):\n",
    "        \n",
    "        # download temporary file from s3 bucket\n",
    "        s3.download_file(bucket, file, 'temp.pdf')\n",
    "        df = pd.read_csv('temp.pdf')\n",
    "\n",
    "        n = df.columns.size   # the number of columns in read dataframe\n",
    "        \n",
    "        if n > 1: # if there is more than 1 column we continue examination \n",
    "            \n",
    "            arr = df[df.columns[0]].dropna().values     # all line item for balance sheet (first column)\n",
    "\n",
    "            # retrieve the asset and liability & equity terms from the dataframe\n",
    "            lhs, rhs = bsSplit(arr)\n",
    "\n",
    "            # append the sequence of each line item \n",
    "            Asset[i] = lhs\n",
    "            LiabilityandEquity[i] = rhs\n",
    "        else:\n",
    "            print('{} incomplete dataframe'.format(file))\n",
    "                    \n",
    "        # remove local file after it has been created\n",
    "        os.remove('temp.pdf')\n",
    "    \n",
    "    # flatten series for all values\n",
    "    left = np.hstack(np.array(Asset))\n",
    "    right = np.hstack(np.array(LiabilityandEquity))\n",
    "    \n",
    "    # convert arrays to proper set \n",
    "    left = np.unique(left)\n",
    "    right = np.unique(right)\n",
    "    \n",
    "    return (left.tolist(), right.tolist())"
   ]
  },
  {
   "cell_type": "code",
   "execution_count": 60,
   "metadata": {},
   "outputs": [
    {
     "name": "stdout",
     "output_type": "stream",
     "text": [
      "                                                    0              1\n",
      "0                                              ASSETS            NaN\n",
      "1                           Cash and cash equivalents      $ 222,336\n",
      "2   Cash and securities deposited with clearing or...            NaN\n",
      "3              in compliance with federal regulations      9,071,138\n",
      "4     Securities purchased under agreements to resell     34,764,794\n",
      "5                                 Securities borrowed     51,094,781\n",
      "6                   Securities received as collateral      3,037,956\n",
      "7                                        Receivables:            NaN\n",
      "8                                           Customers     12,373,732\n",
      "9                         Brokers, dealers and others      2,751,879\n",
      "10                             Interest and dividends        137,260\n",
      "11  Financial instruments owned, at fair value ($2...     26,884,157\n",
      "12                                       Other assets        317,588\n",
      "13                                       TOTAL ASSETS  $ 140,655,621\n",
      "14               LIABILITIES AND STOCKHOLDER'S EQUITY            NaN\n",
      "15                              Short-term borrowings    $ 5,683,726\n",
      "16     Securities sold under agreements to repurchase     44,489,202\n",
      "17                                  Securities loaned      5,032,121\n",
      "18  Obligation to return securities received as co...      3,037,956\n",
      "19                                          Payables:            NaN\n",
      "20                                          Customers     54,113,741\n",
      "21                        Brokers, dealers and others      3,592,750\n",
      "22                             Interest and dividends        211,844\n",
      "23  Financial instruments sold, but not yet purcha...     15,903,027\n",
      "24         Accrued employee compensation and benefits      1,284,391\n",
      "25             Other liabilities and accrued expenses        494,375\n",
      "26                                                NaN    133,843,133\n",
      "27            Commitments and contingencies (Note 12)            NaN\n",
      "28                           Subordinated liabilities      3,350,000\n",
      "29                               Stockholder's Equity            NaN\n",
      "30  Preferred stock, $1.00 par value (Adjustable R...        150,000\n",
      "31  Adjustable Rate Cumulative Preferred Stock, Se...       (61,442)\n",
      "32  Common stock, $1.00 par value; 1,000 shares au...      1 554,673\n",
      "33                                  Retained earnings      2,819,256\n",
      "34                         Total Stockholder's Equity      3,462,488\n",
      "35         TOTAL LIABILITIES AND STOCKHOLDER'S EQUITY  $ 140,655,621\n",
      "['ASSETS' 'Cash and cash equivalents'\n",
      " 'Cash and securities deposited with clearing organizations or segregated'\n",
      " 'in compliance with federal regulations'\n",
      " 'Securities purchased under agreements to resell' 'Securities borrowed'\n",
      " 'Securities received as collateral' 'Receivables:' 'Customers'\n",
      " 'Brokers, dealers and others' 'Interest and dividends'\n",
      " 'Financial instruments owned, at fair value ($22,226,481 pledged as collateral)'\n",
      " 'Other assets' 'TOTAL ASSETS' \"LIABILITIES AND STOCKHOLDER'S EQUITY\"\n",
      " 'Short-term borrowings' 'Securities sold under agreements to repurchase'\n",
      " 'Securities loaned'\n",
      " 'Obligation to return securities received as collateral' 'Payables:'\n",
      " 'Customers' 'Brokers, dealers and others' 'Interest and dividends'\n",
      " 'Financial instruments sold, but not yet purchased, at fair value'\n",
      " 'Accrued employee compensation and benefits'\n",
      " 'Other liabilities and accrued expenses'\n",
      " 'Commitments and contingencies (Note 12)' 'Subordinated liabilities'\n",
      " \"Stockholder's Equity\"\n",
      " 'Preferred stock, $1.00 par value (Adjustable Rate Cumulative Preferred Stock, Series A, $500,000 liquidation preference); 1,000 shares authorized; 300 shares issued'\n",
      " 'Adjustable Rate Cumulative Preferred Stock, Series A, held in treasury, at cost (151 shares)'\n",
      " 'Common stock, $1.00 par value; 1,000 shares authorized and outstanding Paid-in capital'\n",
      " 'Retained earnings' \"Total Stockholder's Equity\"\n",
      " \"TOTAL LIABILITIES AND STOCKHOLDER'S EQUITY\"]\n"
     ]
    }
   ],
   "source": [
    "# discover all of the pdfs that you want to parse\n",
    "paths = np.array(session.list_s3_files(bucket, data_folder))\n",
    "\n",
    "# return all line item splits\n",
    "lefthand, righthand = lineItems(paths[1:])"
   ]
  },
  {
   "cell_type": "code",
   "execution_count": 48,
   "metadata": {},
   "outputs": [
    {
     "data": {
      "text/plain": [
       "['ASSETS',\n",
       " 'Brokers, dealers and others',\n",
       " 'Cash and cash equivalents',\n",
       " 'Cash and securities deposited with clearing organizations or segregated',\n",
       " 'Customers',\n",
       " 'Financial instruments owned, at fair value ($22,226,481 pledged as collateral)',\n",
       " 'Financial instruments owned, at fair value:',\n",
       " 'Interest and dividends',\n",
       " 'Not pledged as collateral',\n",
       " 'Other assets',\n",
       " 'Pledged as collateral',\n",
       " 'Receivables:',\n",
       " 'Securities borrowed',\n",
       " 'Securities purchased under agreements to resell',\n",
       " 'Securities received as collateral',\n",
       " 'TOTAL ASSETS',\n",
       " 'in compliance with federal regulations']"
      ]
     },
     "execution_count": 48,
     "metadata": {},
     "output_type": "execute_result"
    }
   ],
   "source": [
    "lefthand"
   ]
  },
  {
   "cell_type": "code",
   "execution_count": 49,
   "metadata": {},
   "outputs": [
    {
     "data": {
      "text/plain": [
       "['Accrued employee compensation and benefits',\n",
       " 'Adjustable Rate Cumulative Preferred Stock, Series A, held in treasury, at cost (151 shares)',\n",
       " 'Brokers, dealers and others',\n",
       " 'Commitments and contingencies (Note 12)',\n",
       " 'Common stock, $1.00 par value; 1,000 shares authorized and outstanding',\n",
       " 'Common stock, $1.00 par value; 1,000 shares authorized and outstanding Paid-in capital',\n",
       " 'Customers',\n",
       " 'Financial instruments sold, but not yet purchased, at fair value',\n",
       " 'Interest and dividends',\n",
       " \"LIABILITIES AND STOCKHOLDER'S EQUITY\",\n",
       " 'Obligation to return securities received as collateral',\n",
       " 'Other liabilities and accrued expenses',\n",
       " 'Paid-in capital',\n",
       " 'Payables:',\n",
       " 'Preferred stock, $1.00 par value (Adjustable Rate Cumulative Preferred Stock, Series A, $500,000 liquidation preference); 1,000 shares authorized; 300 shares issued',\n",
       " 'Retained earnings',\n",
       " 'Securities loaned',\n",
       " 'Securities sold under agreements to repurchase',\n",
       " 'Short-term borrowings',\n",
       " \"Stockholder's Equity\",\n",
       " 'Subordinated liabilities',\n",
       " \"TOTAL LIABILITIES AND STOCKHOLDER'S EQUITY\",\n",
       " \"Total Stockholder's Equity\"]"
      ]
     },
     "execution_count": 49,
     "metadata": {},
     "output_type": "execute_result"
    }
   ],
   "source": [
    "righthand"
   ]
  },
  {
   "cell_type": "code",
   "execution_count": 51,
   "metadata": {},
   "outputs": [],
   "source": [
    "# storing unique list of asset items and liability line items\n",
    "with open('assetLines.txt', 'w') as f: json.dump(lefthand, f)\n",
    "with open('liabilityLines.txt', 'w') as f: json.dump(righthand, f)"
   ]
  }
 ],
 "metadata": {
  "kernelspec": {
   "display_name": "conda_python3",
   "language": "python",
   "name": "conda_python3"
  },
  "language_info": {
   "codemirror_mode": {
    "name": "ipython",
    "version": 3
   },
   "file_extension": ".py",
   "mimetype": "text/x-python",
   "name": "python",
   "nbconvert_exporter": "python",
   "pygments_lexer": "ipython3",
   "version": "3.6.10"
  }
 },
 "nbformat": 4,
 "nbformat_minor": 4
}
