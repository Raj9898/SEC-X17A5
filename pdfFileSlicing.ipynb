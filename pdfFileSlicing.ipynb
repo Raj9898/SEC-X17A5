{
 "cells": [
  {
   "cell_type": "code",
   "execution_count": 79,
   "metadata": {},
   "outputs": [
    {
     "name": "stdout",
     "output_type": "stream",
     "text": [
      "Requirement already satisfied: pip in /home/ec2-user/anaconda3/envs/python3/lib/python3.6/site-packages (20.3.3)\n",
      "Requirement already satisfied: PyPDF2 in /home/ec2-user/anaconda3/envs/python3/lib/python3.6/site-packages (1.26.0)\n"
     ]
    }
   ],
   "source": [
    "%%bash\n",
    "pip install --upgrade pip\n",
    "pip install PyPDF2"
   ]
  },
  {
   "cell_type": "markdown",
   "metadata": {},
   "source": [
    "## PDF Slicing for X-17A-5 Files\n",
    "We slice the first 10 pages from the X-17A-5 files "
   ]
  },
  {
   "cell_type": "code",
   "execution_count": 80,
   "metadata": {},
   "outputs": [],
   "source": [
    "import os\n",
    "import boto3\n",
    "import numpy as np \n",
    "\n",
    "from sagemaker.session import Session\n",
    "from PyPDF2 import PdfFileReader, PdfFileWriter, utils"
   ]
  },
  {
   "cell_type": "code",
   "execution_count": 81,
   "metadata": {},
   "outputs": [],
   "source": [
    "bucket = \"ran-s3-systemic-risk\"\n",
    "data_folder = 'Input/X-17A-5/'\n",
    "export_folder = \"Input/X-17A-5-Subsets/\"\n",
    "\n",
    "# Amazon Textract client and Sagemaker session\n",
    "textract = boto3.client('textract')\n",
    "s3 = boto3.client('s3')\n",
    "session = Session()"
   ]
  },
  {
   "cell_type": "code",
   "execution_count": 82,
   "metadata": {},
   "outputs": [],
   "source": [
    "# import paths for all the subset files\n",
    "importPaths = np.array(session.list_s3_files(bucket, data_folder))[1:]"
   ]
  },
  {
   "cell_type": "code",
   "execution_count": 83,
   "metadata": {},
   "outputs": [],
   "source": [
    "def selectPages(pdf:PdfFileReader, pages) -> PdfFileWriter:\n",
    "    \"\"\"\n",
    "    Extracts pages and returns a PdfFileWriter object \n",
    "    \"\"\"\n",
    "    # initialize a pdf object to be store pdf pages\n",
    "    pdfWriter = PdfFileWriter()\n",
    "    nPages = pdf.getNumPages()\n",
    "\n",
    "    # to manage pdfs that don't contain as many pages as listed  \n",
    "    if nPages > pages.max():\n",
    "        # add the pages from the document as specified \n",
    "        _ = [pdfWriter.addPage(pdf.getPage(page_num)) for page_num in pages]\n",
    "        return pdfWriter\n",
    "    else:\n",
    "        # add all pages from the document provided\n",
    "        _ = [pdfWriter.addPage(pdf.getPage(page_num)) for page_num in np.arange(nPages)]\n",
    "        return pdfWriter "
   ]
  },
  {
   "cell_type": "code",
   "execution_count": 84,
   "metadata": {},
   "outputs": [],
   "source": [
    "def extractSubset(path:str, export:str, pages:np.ndarray, bucket:str='ran-s3-systemic-risk', \n",
    "                  export_folder:str=\"Input/X-17A-5-Subsets/\"):\n",
    "    \"\"\"\n",
    "    Extracts a subset of pages from a pdf, provided the page numbers are specified\n",
    "    \"\"\"\n",
    "    \n",
    "    try:\n",
    "        # retrieving downloaded files from s3 bucket\n",
    "        s3.download_file(bucket, path, 'temp.pdf')\n",
    "\n",
    "        # read pdf file and initialize empty pdf file to create subset\n",
    "        pdf = PdfFileReader('temp.pdf')\n",
    "        subset = selectPages(pdf, pages)\n",
    "\n",
    "        try:\n",
    "            # open file and save to local instance\n",
    "            with open(export, 'wb') as f:\n",
    "                subset.write(f)\n",
    "                f.close()\n",
    "\n",
    "            # save contents to AWS S3 bucket as specified\n",
    "            with open(export, 'rb') as data:\n",
    "                s3.upload_fileobj(data, bucket, export_folder + export)\n",
    "                \n",
    "            print('Saved file -> {}'.format(export))\n",
    "        \n",
    "        except:\n",
    "            print('Not able to save '.format(export))\n",
    "\n",
    "        # remove local file after it has been created\n",
    "        os.remove('temp.pdf')\n",
    "        os.remove(export)\n",
    "\n",
    "    except utils.PdfReadError:\n",
    "        print('EOF marker not found - reject {}'.format(export))"
   ]
  },
  {
   "cell_type": "code",
   "execution_count": 90,
   "metadata": {},
   "outputs": [
    {
     "name": "stdout",
     "output_type": "stream",
     "text": [
      "Saved file -> 782124-2002-subset.pdf\n"
     ]
    }
   ],
   "source": [
    "# pages to keep from each pdf\n",
    "pages = np.arange(15) \n",
    "\n",
    "# export file paths to document subfolder\n",
    "exportPaths = session.list_s3_files(bucket, export_folder)\n",
    "\n",
    "for pdf_file_path in importPaths[:1]:\n",
    "    \n",
    "    # check to see if values are downloaded to s3 sub-bin\n",
    "    baseFile = pdf_file_path.split('/')[-1].split('.')[0]\n",
    "    exportFile = '{0}-subset.pdf'.format(baseFile)\n",
    "\n",
    "    # if our subset is not found in our s3 bucket we look to extract it \n",
    "    if export_folder + exportFile not in exportPaths:\n",
    "        extractSubset(pdf_file_path, exportFile, pages)\n",
    "    else:\n",
    "        print('{} already saved'.format(exportFile))\n",
    "        "
   ]
  },
  {
   "cell_type": "code",
   "execution_count": null,
   "metadata": {},
   "outputs": [],
   "source": []
  },
  {
   "cell_type": "code",
   "execution_count": null,
   "metadata": {},
   "outputs": [],
   "source": []
  }
 ],
 "metadata": {
  "kernelspec": {
   "display_name": "conda_python3",
   "language": "python",
   "name": "conda_python3"
  },
  "language_info": {
   "codemirror_mode": {
    "name": "ipython",
    "version": 3
   },
   "file_extension": ".py",
   "mimetype": "text/x-python",
   "name": "python",
   "nbconvert_exporter": "python",
   "pygments_lexer": "ipython3",
   "version": "3.6.10"
  }
 },
 "nbformat": 4,
 "nbformat_minor": 4
}
