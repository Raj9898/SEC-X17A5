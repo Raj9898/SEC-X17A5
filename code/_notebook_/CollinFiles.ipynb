{
 "cells": [
  {
   "cell_type": "code",
   "execution_count": 4,
   "id": "6fb634f9",
   "metadata": {},
   "outputs": [],
   "source": [
    "# console and directory access\n",
    "import os\n",
    "import re\n",
    "import time \n",
    "import json\n",
    "import numpy as np\n",
    "\n",
    "# interacting with Amazon AWS\n",
    "import boto3\n",
    "from sagemaker.session import Session"
   ]
  },
  {
   "cell_type": "code",
   "execution_count": 12,
   "id": "842a2d5c",
   "metadata": {},
   "outputs": [],
   "source": [
    "if __name__ == \"__main__\":\n",
    "    \n",
    "    bucket = \"ran-s3-systemic-risk\"\n",
    "    raw_data_folder = 'Input/X-17A-5/'\n",
    "  \n",
    "    # Amazon Textract client and Sagemaker session\n",
    "    s3 = boto3.client('s3')\n",
    "    session = Session()\n",
    "    \n",
    "    # import paths for all the X-17A-5 files \n",
    "    # (NOTE: we take the 1+ index, since the the zero position is folder directory)\n",
    "    data_files = np.array(session.list_s3_files(bucket, raw_data_folder))[1:]\n",
    "    \n",
    "    for path_name in data_files:\n",
    "        # check to see if values are downloaded to s3 sub-bin\n",
    "        baseFile = path_name.split('/')[-1]\n",
    "        \n",
    "        # retrieving downloaded files from s3 bucket\n",
    "        s3.download_file(bucket, path_name, 'COLLIN/RAW/' + baseFile)"
   ]
  },
  {
   "cell_type": "code",
   "execution_count": null,
   "id": "fdd31fd2",
   "metadata": {},
   "outputs": [],
   "source": []
  },
  {
   "cell_type": "code",
   "execution_count": null,
   "id": "65af480e",
   "metadata": {},
   "outputs": [],
   "source": []
  }
 ],
 "metadata": {
  "kernelspec": {
   "display_name": "conda_python3",
   "language": "python",
   "name": "conda_python3"
  },
  "language_info": {
   "codemirror_mode": {
    "name": "ipython",
    "version": 3
   },
   "file_extension": ".py",
   "mimetype": "text/x-python",
   "name": "python",
   "nbconvert_exporter": "python",
   "pygments_lexer": "ipython3",
   "version": "3.6.13"
  }
 },
 "nbformat": 4,
 "nbformat_minor": 5
}
