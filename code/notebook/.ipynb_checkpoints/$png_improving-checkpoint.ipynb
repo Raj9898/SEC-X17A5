{
 "cells": [
  {
   "cell_type": "code",
   "execution_count": 20,
   "id": "028c585b",
   "metadata": {},
   "outputs": [],
   "source": [
    "import time \n",
    "import re\n",
    "import os\n",
    "import boto3\n",
    "import json\n",
    "import logging \n",
    "\n",
    "import numpy as np\n",
    "import pandas as pd\n",
    "\n",
    "from sagemaker.session import Session\n",
    "\n",
    "# Image IO\n",
    "from PIL import Image\n",
    "\n",
    "# Morphological filtering\n",
    "from skimage.morphology import opening\n",
    "from skimage.morphology import disk\n",
    "\n",
    "# Connected component filtering\n",
    "import cv2"
   ]
  },
  {
   "cell_type": "code",
   "execution_count": 19,
   "id": "9b41adbb",
   "metadata": {},
   "outputs": [],
   "source": [
    "# Amazon Textract client and Sagemaker session\n",
    "textract = boto3.client('textract')\n",
    "s3 = boto3.client('s3')\n",
    "session = Session()\n",
    "\n",
    "# initiate s3 bucket and corresponding data/output folder\n",
    "bucket = 'ran-s3-systemic-risk'\n",
    "\n",
    "data_png_folder = 'Input/X-17A-5-PNG-SUBSETS/'\n",
    "file_name = '1146184-2010-02-25-p4.png'\n",
    "sub_dir = '-'.join(file_name.split('.')[0].split('-')[:-1]) + '/'\n",
    "\n",
    "# retrieving downloaded files from s3 bucket\n",
    "s3.download_file(bucket, data_png_folder + sub_dir + file_name, 'original.png')"
   ]
  },
  {
   "cell_type": "markdown",
   "id": "979c4f97",
   "metadata": {},
   "source": [
    "# Improving PNG Textract "
   ]
  },
  {
   "cell_type": "code",
   "execution_count": 21,
   "id": "7c389d89",
   "metadata": {},
   "outputs": [],
   "source": [
    "black = 0\n",
    "white = 255\n",
    "threshold = 160\n",
    "\n",
    "# Open input image in grayscale mode and get its pixels.\n",
    "img = Image.open(\"original.png\").convert(\"LA\")\n",
    "pixels = np.array(img)[:,:,0]\n",
    "\n",
    "# Remove pixels above threshold\n",
    "pixels[pixels > threshold] = white\n",
    "pixels[pixels < threshold] = black\n",
    "\n",
    "# Morphological opening\n",
    "blobSize = 1 # Select the maximum radius of the blobs you would like to remove\n",
    "structureElement = disk(blobSize)  # you can define different shapes, here we take a disk shape\n",
    "\n",
    "# We need to invert the image such that black is background and white foreground to perform the opening\n",
    "pixels = np.invert(opening(np.invert(pixels), structureElement))\n",
    "\n",
    "# Create and save new image.\n",
    "newImg = Image.fromarray(pixels).convert('RGB')\n",
    "newImg.save(\"new_image1.png\")\n",
    "\n",
    "# # Find the connected components (black objects in your image)\n",
    "# # Because the function searches for white connected components on a black background, we need to invert the image\n",
    "# nb_components, output, stats, centroids = cv2.connectedComponentsWithStats(np.invert(pixels), connectivity=8)\n",
    "\n",
    "# # For every connected component in your image, you can obtain the number of pixels from the stats variable in the last\n",
    "# # column. We remove the first entry from sizes, because this is the entry of the background connected component\n",
    "# sizes = stats[1:,-1]\n",
    "# nb_components -= 1\n",
    "\n",
    "# # Define the minimum size (number of pixels) a component should consist of\n",
    "# minimum_size = 100\n",
    "\n",
    "# # Create a new image\n",
    "# newPixels = np.ones(pixels.shape)*255\n",
    "\n",
    "# # Iterate over all components in the image, only keep the components larger than minimum size\n",
    "# for i in range(1, nb_components):\n",
    "#     if sizes[i] > minimum_size:\n",
    "#         newPixels[output == i+1] = 0\n",
    "\n",
    "# # Create and save new image.\n",
    "# newImg = Image.fromarray(newPixels).convert('RGB')\n",
    "# newImg.save(\"new_image2.png\")"
   ]
  },
  {
   "cell_type": "markdown",
   "id": "d514f989",
   "metadata": {},
   "source": [
    "# Tabular CSV versus TEXT"
   ]
  },
  {
   "cell_type": "code",
   "execution_count": 22,
   "id": "158bdac7",
   "metadata": {},
   "outputs": [],
   "source": [
    "# read all CIK and Dealer name information from storage\n",
    "with open('/home/ec2-user/SageMaker/SEC_X17A5/temp/X17A5-TEXT.json', 'r') as f: textract_text = json.loads(f.read())"
   ]
  },
  {
   "cell_type": "code",
   "execution_count": 25,
   "id": "4c8e5238",
   "metadata": {},
   "outputs": [
    {
     "data": {
      "text/plain": [
       "{'CITADEL SECURITIES LLC': 99.74005126953125,\n",
       " '(FORMERLY CITADEL DERIVATIVES GROUP LLC)': 99.44416046142578,\n",
       " 'STATEMENT OF FINANCIAL CONDITION': 99.84132385253906,\n",
       " 'December 31, 2009': 99.79668426513672,\n",
       " '(Expressed in U.S. dollars in thousands)': 99.91242218017578,\n",
       " 'ASSETS': 99.9345703125,\n",
       " 'Assets:': 99.85037231445312,\n",
       " 'Cash and cash equivalents': 99.89713287353516,\n",
       " '$': 94.14923095703125,\n",
       " '295,882': 99.46772766113281,\n",
       " 'Securities owned': 99.94834899902344,\n",
       " '5,655,436': 99.8766098022461,\n",
       " 'Securities purchased under agreements to resell': 99.94229125976562,\n",
       " '116,248': 99.86144256591797,\n",
       " 'Receivable from brokers, dealers, clearing organizations and futures clearing brokers': 97.78400421142578,\n",
       " '626,118': 99.88433837890625,\n",
       " 'Securities borrowed': 99.9103775024414,\n",
       " '11,211,006': 99.82057189941406,\n",
       " 'Collateral held under securities loan agreements': 99.95226287841797,\n",
       " '5,885,790': 99.91493225097656,\n",
       " 'Dividends receivable': 99.96331024169922,\n",
       " '2,842': 99.62548065185547,\n",
       " 'Receivable from affiliates': 99.93521881103516,\n",
       " '2,902': 99.71483612060547,\n",
       " 'Exchange memberships and trading rights, at cost (fair value $72,390)': 99.67974090576172,\n",
       " '60,201': 99.80970764160156,\n",
       " 'Interest receivable': 99.91614532470703,\n",
       " '20,422': 99.80015563964844,\n",
       " 'Other assets': 99.88500213623047,\n",
       " '15,221': 99.8554916381836,\n",
       " 'Total assets': 99.9404067993164,\n",
       " '23,892,068': 99.6731185913086,\n",
       " 'LIABILITIES AND MEMBERS CAPITAL': 89.01737213134766,\n",
       " 'Liabilities:': 98.81938171386719,\n",
       " 'Securities sold, not yet purchased': 97.8750991821289,\n",
       " '5,542,263': 99.76722717285156,\n",
       " 'Securities sold under agreements to repurchase': 99.93827056884766,\n",
       " '3,200,847': 99.79731750488281,\n",
       " 'Payable to brokers, dealers and clearing organizations': 98.9692611694336,\n",
       " '9,733': 99.23274230957031,\n",
       " 'Securities loaned': 99.97016906738281,\n",
       " '13,902,558': 99.45335388183594,\n",
       " 'Dividends payable': 99.95172119140625,\n",
       " '1,665': 99.90584564208984,\n",
       " 'Payable to affiliates for clearing activities': 99.8819580078125,\n",
       " '110,363': 98.06092834472656,\n",
       " 'Payable to affiliates': 99.88372802734375,\n",
       " '1,919': 99.88800048828125,\n",
       " 'Interest payable': 99.86776733398438,\n",
       " '8,709': 99.49359893798828,\n",
       " 'Other liabilities': 99.95724487304688,\n",
       " '34,791': 99.74913024902344,\n",
       " 'Total liabilities': 99.9090347290039,\n",
       " '22,812,848': 99.63602447509766,\n",
       " \"Members' capital\": 99.1050033569336,\n",
       " '1,079,220': 99.61093139648438,\n",
       " \"Total liabilities and members' capital\": 99.6901626586914,\n",
       " 'See notes to statement of financial condition.': 99.56499481201172,\n",
       " '-2-': 98.79436492919922}"
      ]
     },
     "execution_count": 25,
     "metadata": {},
     "output_type": "execute_result"
    }
   ],
   "source": [
    "textract_text['1146184-2010-02-25']"
   ]
  },
  {
   "cell_type": "markdown",
   "id": "29cf97ac",
   "metadata": {},
   "source": [
    "# Determing Firm Drops in Final Release"
   ]
  },
  {
   "cell_type": "code",
   "execution_count": 27,
   "id": "a974e67c",
   "metadata": {},
   "outputs": [],
   "source": [
    "# read the structured database to determine all strucutred data fields \n",
    "asset_df = pd.read_csv('/home/ec2-user/SageMaker/SEC_X17A5/output/structured_asset.csv') \n",
    "liable_df = pd.read_csv('/home/ec2-user/SageMaker/SEC_X17A5/output/structured_liability.csv') "
   ]
  },
  {
   "cell_type": "code",
   "execution_count": 36,
   "id": "7acf1a85",
   "metadata": {},
   "outputs": [],
   "source": [
    "# will be used to compare digitized filings that differ from stored filings \n",
    "stored_filings = np.array(session.list_s3_files(bucket, 'Input/X-17A-5/'))[1:]\n",
    "digit_filings = ('Input/X-17A-5/' + asset_df['CIK'].apply(lambda x: str(x) + '-') + asset_df['Filing Date'] + '.pdf').values"
   ]
  },
  {
   "cell_type": "code",
   "execution_count": 48,
   "id": "c44382a3",
   "metadata": {},
   "outputs": [],
   "source": [
    "a = stored_filings[~np.isin(stored_filings, digit_filings)]"
   ]
  },
  {
   "cell_type": "code",
   "execution_count": 49,
   "id": "39f04b30",
   "metadata": {},
   "outputs": [
    {
     "data": {
      "text/plain": [
       "array(['Input/X-17A-5/1101180-2007-03-02.pdf',\n",
       "       'Input/X-17A-5/1146184-2005-03-02.pdf',\n",
       "       'Input/X-17A-5/1146184-2010-02-25.pdf',\n",
       "       'Input/X-17A-5/1146184-2010-03-09.pdf',\n",
       "       'Input/X-17A-5/1146184-2011-02-25.pdf',\n",
       "       'Input/X-17A-5/1146184-2014-02-28.pdf',\n",
       "       'Input/X-17A-5/1146184-2018-02-27.pdf',\n",
       "       'Input/X-17A-5/1146184-2020-02-28.pdf',\n",
       "       'Input/X-17A-5/1261467-2020-03-02.pdf',\n",
       "       'Input/X-17A-5/1591458-2016-02-18.pdf',\n",
       "       'Input/X-17A-5/200565-2019-03-01.pdf',\n",
       "       'Input/X-17A-5/230611-2010-03-01.pdf',\n",
       "       'Input/X-17A-5/230611-2013-03-01.pdf',\n",
       "       'Input/X-17A-5/230611-2019-03-01.pdf',\n",
       "       'Input/X-17A-5/276523-2006-08-08.pdf',\n",
       "       'Input/X-17A-5/318336-2010-03-01.pdf',\n",
       "       'Input/X-17A-5/356628-1997-03-03.pdf',\n",
       "       'Input/X-17A-5/356628-1998-02-23.pdf',\n",
       "       'Input/X-17A-5/42352-2010-03-03.pdf',\n",
       "       'Input/X-17A-5/42352-2020-02-28.pdf',\n",
       "       'Input/X-17A-5/48966-2010-03-02.pdf',\n",
       "       'Input/X-17A-5/68136-2009-02-10.pdf',\n",
       "       'Input/X-17A-5/68136-2020-03-02.pdf',\n",
       "       'Input/X-17A-5/753835-2021-03-15.pdf',\n",
       "       'Input/X-17A-5/754542-2009-03-02.pdf',\n",
       "       'Input/X-17A-5/782124-2010-03-02.pdf',\n",
       "       'Input/X-17A-5/808379-2007-03-01.pdf',\n",
       "       'Input/X-17A-5/808379-2017-03-01.pdf',\n",
       "       'Input/X-17A-5/808379-2018-03-01.pdf',\n",
       "       'Input/X-17A-5/808379-2020-02-20.pdf',\n",
       "       'Input/X-17A-5/808379-2021-03-02.pdf',\n",
       "       'Input/X-17A-5/853784-2003-02-28.pdf',\n",
       "       'Input/X-17A-5/853784-2004-03-01.pdf',\n",
       "       'Input/X-17A-5/853784-2005-02-28.pdf',\n",
       "       'Input/X-17A-5/874362-2010-03-02.pdf',\n",
       "       'Input/X-17A-5/87634-2005-02-28.pdf',\n",
       "       'Input/X-17A-5/87634-2016-02-25.pdf',\n",
       "       'Input/X-17A-5/890203-2010-11-23.pdf',\n",
       "       'Input/X-17A-5/91154-2006-03-01.pdf'], dtype='<U36')"
      ]
     },
     "execution_count": 49,
     "metadata": {},
     "output_type": "execute_result"
    }
   ],
   "source": [
    "a"
   ]
  },
  {
   "cell_type": "code",
   "execution_count": 66,
   "id": "c7d83063",
   "metadata": {},
   "outputs": [],
   "source": [
    "b = np.array(list(map(lambda x: x.split('/')[-1][:-4], a)))"
   ]
  },
  {
   "cell_type": "code",
   "execution_count": 67,
   "id": "c6254f2c",
   "metadata": {},
   "outputs": [
    {
     "data": {
      "text/plain": [
       "array(['1101180-2007-03-02', '1146184-2005-03-02', '1146184-2010-02-25',\n",
       "       '1146184-2010-03-09', '1146184-2011-02-25', '1146184-2014-02-28',\n",
       "       '1146184-2018-02-27', '1146184-2020-02-28', '1261467-2020-03-02',\n",
       "       '1591458-2016-02-18', '200565-2019-03-01', '230611-2010-03-01',\n",
       "       '230611-2013-03-01', '230611-2019-03-01', '276523-2006-08-08',\n",
       "       '318336-2010-03-01', '356628-1997-03-03', '356628-1998-02-23',\n",
       "       '42352-2010-03-03', '42352-2020-02-28', '48966-2010-03-02',\n",
       "       '68136-2009-02-10', '68136-2020-03-02', '753835-2021-03-15',\n",
       "       '754542-2009-03-02', '782124-2010-03-02', '808379-2007-03-01',\n",
       "       '808379-2017-03-01', '808379-2018-03-01', '808379-2020-02-20',\n",
       "       '808379-2021-03-02', '853784-2003-02-28', '853784-2004-03-01',\n",
       "       '853784-2005-02-28', '874362-2010-03-02', '87634-2005-02-28',\n",
       "       '87634-2016-02-25', '890203-2010-11-23', '91154-2006-03-01'],\n",
       "      dtype='<U18')"
      ]
     },
     "execution_count": 67,
     "metadata": {},
     "output_type": "execute_result"
    }
   ],
   "source": [
    "b"
   ]
  },
  {
   "cell_type": "code",
   "execution_count": 46,
   "id": "bad10e60",
   "metadata": {},
   "outputs": [],
   "source": [
    "# read all CIK and Dealer name information from storage\n",
    "with open('/home/ec2-user/SageMaker/SEC_X17A5/temp/ERROR-TEXTRACT.json', 'r') as f: textract_errors = json.loads(f.read())"
   ]
  },
  {
   "cell_type": "code",
   "execution_count": 79,
   "id": "caf0e23e",
   "metadata": {},
   "outputs": [
    {
     "data": {
      "text/plain": [
       "{'1101180-2007-03-02': 'No Balance Sheet found, or parsing error',\n",
       " '1146184-2005-03-02': 'No Balance Sheet found, or parsing error',\n",
       " '1146184-2010-03-09': 'No Balance Sheet found, or parsing error',\n",
       " '1261467-2020-03-02': 'No Balance Sheet found, or parsing error',\n",
       " '1591458-2016-02-18': 'No Balance Sheet found, or parsing error',\n",
       " '200565-2019-03-01': 'No Balance Sheet found, or parsing error',\n",
       " '230611-2010-03-01': 'No Balance Sheet found, or parsing error',\n",
       " '230611-2013-03-01': 'No Balance Sheet found, or parsing error',\n",
       " '230611-2019-03-01': 'No Balance Sheet found, or parsing error',\n",
       " '276523-2006-08-08': 'No Balance Sheet found, or parsing error',\n",
       " '318336-2010-03-01': 'No Balance Sheet found, or parsing error',\n",
       " '356628-1997-03-03': 'Could not parse, JOB FAILED',\n",
       " '356628-1998-02-23': 'Could not parse, JOB FAILED',\n",
       " '42352-2010-03-03': 'No Balance Sheet found, or parsing error',\n",
       " '42352-2020-02-28': 'No Balance Sheet found, or parsing error',\n",
       " '48966-2010-03-02': 'No Balance Sheet found, or parsing error',\n",
       " '68136-2009-02-10': 'No Balance Sheet found, or parsing error',\n",
       " '68136-2020-03-02': 'No Balance Sheet found, or parsing error',\n",
       " '753835-2021-03-15': 'No Balance Sheet found, or parsing error',\n",
       " '754542-2009-03-02': 'No Balance Sheet found, or parsing error',\n",
       " '782124-2010-03-02': 'No Balance Sheet found, or parsing error',\n",
       " '808379-2007-03-01': 'No Balance Sheet found, or parsing error',\n",
       " '808379-2021-03-02': 'No Balance Sheet found, or parsing error',\n",
       " '874362-2010-03-02': 'No Balance Sheet found, or parsing error',\n",
       " '87634-2016-02-25': 'No Balance Sheet found, or parsing error',\n",
       " '890203-2010-11-23': 'No Balance Sheet found, or parsing error',\n",
       " '91154-2006-03-01': 'No Balance Sheet found, or parsing error'}"
      ]
     },
     "execution_count": 79,
     "metadata": {},
     "output_type": "execute_result"
    }
   ],
   "source": [
    "textract_errors"
   ]
  },
  {
   "cell_type": "code",
   "execution_count": 58,
   "id": "abf3d792",
   "metadata": {},
   "outputs": [],
   "source": [
    "c = np.array(list(textract_errors.keys()))"
   ]
  },
  {
   "cell_type": "code",
   "execution_count": 68,
   "id": "a24b220d",
   "metadata": {},
   "outputs": [
    {
     "data": {
      "text/plain": [
       "array([ True,  True,  True,  True,  True,  True,  True,  True,  True,\n",
       "        True,  True,  True,  True,  True,  True,  True,  True,  True,\n",
       "        True,  True,  True,  True,  True,  True,  True,  True,  True])"
      ]
     },
     "execution_count": 68,
     "metadata": {},
     "output_type": "execute_result"
    }
   ],
   "source": [
    "# all textract first-order errors are found within the continuity errors\n",
    "np.isin(c, b)"
   ]
  },
  {
   "cell_type": "code",
   "execution_count": 60,
   "id": "5650b422",
   "metadata": {},
   "outputs": [
    {
     "data": {
      "text/plain": [
       "array(['1101180-2007-03-02', '1146184-2005-03-02', '1146184-2010-03-09',\n",
       "       '1261467-2020-03-02', '1591458-2016-02-18', '200565-2019-03-01',\n",
       "       '230611-2010-03-01', '230611-2013-03-01', '230611-2019-03-01',\n",
       "       '276523-2006-08-08', '318336-2010-03-01', '356628-1997-03-03',\n",
       "       '356628-1998-02-23', '42352-2010-03-03', '42352-2020-02-28',\n",
       "       '48966-2010-03-02', '68136-2009-02-10', '68136-2020-03-02',\n",
       "       '753835-2021-03-15', '754542-2009-03-02', '782124-2010-03-02',\n",
       "       '808379-2007-03-01', '808379-2021-03-02', '874362-2010-03-02',\n",
       "       '87634-2016-02-25', '890203-2010-11-23', '91154-2006-03-01'],\n",
       "      dtype='<U18')"
      ]
     },
     "execution_count": 60,
     "metadata": {},
     "output_type": "execute_result"
    }
   ],
   "source": [
    "# these are firms that have poor readings (missing Balance sheet or parsing algo issues)\n",
    "c"
   ]
  },
  {
   "cell_type": "code",
   "execution_count": 71,
   "id": "923d3931",
   "metadata": {},
   "outputs": [
    {
     "data": {
      "text/plain": [
       "array(['1146184-2010-02-25', '1146184-2011-02-25', '1146184-2014-02-28',\n",
       "       '1146184-2018-02-27', '1146184-2020-02-28', '808379-2017-03-01',\n",
       "       '808379-2018-03-01', '808379-2020-02-20', '853784-2003-02-28',\n",
       "       '853784-2004-03-01', '853784-2005-02-28', '87634-2005-02-28'],\n",
       "      dtype='<U18')"
      ]
     },
     "execution_count": 71,
     "metadata": {},
     "output_type": "execute_result"
    }
   ],
   "source": [
    "# these are textract second-order errors, issues that lead to imperfect reading and drops\n",
    "b[~np.isin(b, c)]"
   ]
  },
  {
   "cell_type": "code",
   "execution_count": 78,
   "id": "48521b5c",
   "metadata": {},
   "outputs": [
    {
     "data": {
      "text/plain": [
       "(0.06310679611650485, 0.043689320388349516)"
      ]
     },
     "execution_count": 78,
     "metadata": {},
     "output_type": "execute_result"
    }
   ],
   "source": [
    "# percentage of errors \n",
    "b.size / digit_filings.size, c.size / digit_filings.size"
   ]
  },
  {
   "cell_type": "code",
   "execution_count": 80,
   "id": "7bfa020c",
   "metadata": {},
   "outputs": [],
   "source": [
    "import matplotlib.pyplot as plt"
   ]
  },
  {
   "cell_type": "code",
   "execution_count": 86,
   "id": "e38f5bc8",
   "metadata": {},
   "outputs": [],
   "source": [
    "bb_list = asset_df[asset_df['Filing Year'] == 2019][['Name', 'Total assets']].sort_values(by='Total assets', \n",
    "                                                                                          ascending=False)"
   ]
  },
  {
   "cell_type": "code",
   "execution_count": 91,
   "id": "6444a988",
   "metadata": {},
   "outputs": [],
   "source": [
    "bb_list['Rank'] = bb_list['Total assets'].rank(ascending=False)"
   ]
  },
  {
   "cell_type": "code",
   "execution_count": 94,
   "id": "a07d3230",
   "metadata": {},
   "outputs": [],
   "source": [
    "bb_list['Total assets'] = np.log(bb_list['Total assets'])\n",
    "bb_list['Rank'] = np.log(bb_list['Rank'])"
   ]
  },
  {
   "cell_type": "code",
   "execution_count": 103,
   "id": "26749ed6",
   "metadata": {},
   "outputs": [
    {
     "data": {
      "text/plain": [
       "[<matplotlib.lines.Line2D at 0x7fc663181048>]"
      ]
     },
     "execution_count": 103,
     "metadata": {},
     "output_type": "execute_result"
    },
    {
     "data": {
      "image/png": "[encoded data removed]",
      "text/plain": [
       "<Figure size 1080x576 with 1 Axes>"
      ]
     },
     "metadata": {
      "needs_background": "light"
     },
     "output_type": "display_data"
    }
   ],
   "source": [
    "fig, ax = plt.subplots()\n",
    "\n",
    "fig.set_figheight(8)\n",
    "fig.set_figwidth(15)\n",
    "\n",
    "ax.plot(bb_list.Rank.iloc[:-3], bb_list['Total assets'].iloc[:-3])"
   ]
  },
  {
   "cell_type": "code",
   "execution_count": 101,
   "id": "6e0ed963",
   "metadata": {},
   "outputs": [
    {
     "data": {
      "text/html": [
       "<div>\n",
       "<style scoped>\n",
       "    .dataframe tbody tr th:only-of-type {\n",
       "        vertical-align: middle;\n",
       "    }\n",
       "\n",
       "    .dataframe tbody tr th {\n",
       "        vertical-align: top;\n",
       "    }\n",
       "\n",
       "    .dataframe thead th {\n",
       "        text-align: right;\n",
       "    }\n",
       "</style>\n",
       "<table border=\"1\" class=\"dataframe\">\n",
       "  <thead>\n",
       "    <tr style=\"text-align: right;\">\n",
       "      <th></th>\n",
       "      <th>Name</th>\n",
       "      <th>Total assets</th>\n",
       "      <th>Rank</th>\n",
       "    </tr>\n",
       "  </thead>\n",
       "  <tbody>\n",
       "    <tr>\n",
       "      <th>363</th>\n",
       "      <td>J.P. MORGAN SECURITIES LLC</td>\n",
       "      <td>26.919598</td>\n",
       "      <td>0.000000</td>\n",
       "    </tr>\n",
       "    <tr>\n",
       "      <th>590</th>\n",
       "      <td>CITIGROUP GLOBAL MARKETS INC.</td>\n",
       "      <td>26.391231</td>\n",
       "      <td>0.693147</td>\n",
       "    </tr>\n",
       "    <tr>\n",
       "      <th>316</th>\n",
       "      <td>NOMURA SECURITIES INTERNATIONAL, INC.</td>\n",
       "      <td>25.682419</td>\n",
       "      <td>1.098612</td>\n",
       "    </tr>\n",
       "    <tr>\n",
       "      <th>56</th>\n",
       "      <td>WELLS FARGO SECURITIES, LLC</td>\n",
       "      <td>25.677927</td>\n",
       "      <td>1.386294</td>\n",
       "    </tr>\n",
       "    <tr>\n",
       "      <th>420</th>\n",
       "      <td>BARCLAYS CAPITAL INC.</td>\n",
       "      <td>25.320071</td>\n",
       "      <td>1.609438</td>\n",
       "    </tr>\n",
       "    <tr>\n",
       "      <th>192</th>\n",
       "      <td>CREDIT SUISSE SECURITIES (USA) LLC</td>\n",
       "      <td>25.118196</td>\n",
       "      <td>1.791759</td>\n",
       "    </tr>\n",
       "    <tr>\n",
       "      <th>272</th>\n",
       "      <td>DEUTSCHE BANK SECURITIES INC.</td>\n",
       "      <td>25.106180</td>\n",
       "      <td>1.945910</td>\n",
       "    </tr>\n",
       "    <tr>\n",
       "      <th>438</th>\n",
       "      <td>HSBC SECURITIES (USA) INC.</td>\n",
       "      <td>25.071231</td>\n",
       "      <td>2.079442</td>\n",
       "    </tr>\n",
       "    <tr>\n",
       "      <th>616</th>\n",
       "      <td>INTERACTIVE BROKERS LLC</td>\n",
       "      <td>24.824172</td>\n",
       "      <td>2.197225</td>\n",
       "    </tr>\n",
       "    <tr>\n",
       "      <th>502</th>\n",
       "      <td>CHARLES SCHWAB &amp; CO., INC.</td>\n",
       "      <td>24.643931</td>\n",
       "      <td>2.302585</td>\n",
       "    </tr>\n",
       "    <tr>\n",
       "      <th>145</th>\n",
       "      <td>DAIWA CAPITAL MARKETS AMERICA INC.</td>\n",
       "      <td>24.608695</td>\n",
       "      <td>2.397895</td>\n",
       "    </tr>\n",
       "    <tr>\n",
       "      <th>596</th>\n",
       "      <td>SUSQUEHANNA SECURITIES, LLC</td>\n",
       "      <td>24.508198</td>\n",
       "      <td>2.484907</td>\n",
       "    </tr>\n",
       "    <tr>\n",
       "      <th>79</th>\n",
       "      <td>CURVATURE SECURITIES LLC</td>\n",
       "      <td>24.500467</td>\n",
       "      <td>2.564949</td>\n",
       "    </tr>\n",
       "    <tr>\n",
       "      <th>85</th>\n",
       "      <td>CITADEL CLEARING LLC</td>\n",
       "      <td>24.489404</td>\n",
       "      <td>2.639057</td>\n",
       "    </tr>\n",
       "    <tr>\n",
       "      <th>38</th>\n",
       "      <td>SOUTH STREET SECURITIES LLC</td>\n",
       "      <td>24.406612</td>\n",
       "      <td>2.708050</td>\n",
       "    </tr>\n",
       "    <tr>\n",
       "      <th>384</th>\n",
       "      <td>TD SECURITIES (USA) LLC</td>\n",
       "      <td>24.403435</td>\n",
       "      <td>2.772589</td>\n",
       "    </tr>\n",
       "    <tr>\n",
       "      <th>467</th>\n",
       "      <td>MUFG SECURITIES AMERICAS INC.</td>\n",
       "      <td>24.262620</td>\n",
       "      <td>2.833213</td>\n",
       "    </tr>\n",
       "    <tr>\n",
       "      <th>523</th>\n",
       "      <td>ING FINANCIAL MARKETS LLC</td>\n",
       "      <td>24.160882</td>\n",
       "      <td>2.890372</td>\n",
       "    </tr>\n",
       "    <tr>\n",
       "      <th>335</th>\n",
       "      <td>BNP PARIBAS SECURITIES CORP.</td>\n",
       "      <td>24.009650</td>\n",
       "      <td>2.944439</td>\n",
       "    </tr>\n",
       "    <tr>\n",
       "      <th>106</th>\n",
       "      <td>UBS FINANCIAL SERVICES INC.</td>\n",
       "      <td>23.575393</td>\n",
       "      <td>2.995732</td>\n",
       "    </tr>\n",
       "    <tr>\n",
       "      <th>251</th>\n",
       "      <td>COWEN AND COMPANY, LLC</td>\n",
       "      <td>20.458740</td>\n",
       "      <td>3.044522</td>\n",
       "    </tr>\n",
       "    <tr>\n",
       "      <th>543</th>\n",
       "      <td>MIRAE ASSET SECURITIES (USA) INC.</td>\n",
       "      <td>17.763485</td>\n",
       "      <td>3.113515</td>\n",
       "    </tr>\n",
       "  </tbody>\n",
       "</table>\n",
       "</div>"
      ],
      "text/plain": [
       "                                       Name  Total assets      Rank\n",
       "363             J.P. MORGAN SECURITIES LLC      26.919598  0.000000\n",
       "590          CITIGROUP GLOBAL MARKETS INC.      26.391231  0.693147\n",
       "316  NOMURA SECURITIES INTERNATIONAL, INC.      25.682419  1.098612\n",
       "56             WELLS FARGO SECURITIES, LLC      25.677927  1.386294\n",
       "420                  BARCLAYS CAPITAL INC.      25.320071  1.609438\n",
       "192     CREDIT SUISSE SECURITIES (USA) LLC      25.118196  1.791759\n",
       "272          DEUTSCHE BANK SECURITIES INC.      25.106180  1.945910\n",
       "438             HSBC SECURITIES (USA) INC.      25.071231  2.079442\n",
       "616                INTERACTIVE BROKERS LLC      24.824172  2.197225\n",
       "502             CHARLES SCHWAB & CO., INC.      24.643931  2.302585\n",
       "145     DAIWA CAPITAL MARKETS AMERICA INC.      24.608695  2.397895\n",
       "596            SUSQUEHANNA SECURITIES, LLC      24.508198  2.484907\n",
       "79                CURVATURE SECURITIES LLC      24.500467  2.564949\n",
       "85                    CITADEL CLEARING LLC      24.489404  2.639057\n",
       "38             SOUTH STREET SECURITIES LLC      24.406612  2.708050\n",
       "384                TD SECURITIES (USA) LLC      24.403435  2.772589\n",
       "467          MUFG SECURITIES AMERICAS INC.      24.262620  2.833213\n",
       "523              ING FINANCIAL MARKETS LLC      24.160882  2.890372\n",
       "335           BNP PARIBAS SECURITIES CORP.      24.009650  2.944439\n",
       "106            UBS FINANCIAL SERVICES INC.      23.575393  2.995732\n",
       "251                 COWEN AND COMPANY, LLC      20.458740  3.044522\n",
       "543      MIRAE ASSET SECURITIES (USA) INC.      17.763485  3.113515"
      ]
     },
     "execution_count": 101,
     "metadata": {},
     "output_type": "execute_result"
    }
   ],
   "source": [
    "bb_list.iloc[:-2]"
   ]
  },
  {
   "cell_type": "code",
   "execution_count": 102,
   "id": "059ec941",
   "metadata": {},
   "outputs": [],
   "source": [
    "# duplicate rows for firms (Mirae)"
   ]
  },
  {
   "cell_type": "code",
   "execution_count": null,
   "id": "90b9c591",
   "metadata": {},
   "outputs": [],
   "source": [
    "np.lin"
   ]
  },
  {
   "cell_type": "code",
   "execution_count": null,
   "id": "bdb3508d",
   "metadata": {},
   "outputs": [],
   "source": []
  }
 ],
 "metadata": {
  "kernelspec": {
   "display_name": "conda_python3",
   "language": "python",
   "name": "conda_python3"
  },
  "language_info": {
   "codemirror_mode": {
    "name": "ipython",
    "version": 3
   },
   "file_extension": ".py",
   "mimetype": "text/x-python",
   "name": "python",
   "nbconvert_exporter": "python",
   "pygments_lexer": "ipython3",
   "version": "3.6.13"
  }
 },
 "nbformat": 4,
 "nbformat_minor": 5
}
