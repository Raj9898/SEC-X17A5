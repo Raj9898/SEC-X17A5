{
 "cells": [
  {
   "cell_type": "code",
   "execution_count": 1,
   "id": "2f0059c2",
   "metadata": {},
   "outputs": [],
   "source": [
    "import os\n",
    "import boto3\n",
    "\n",
    "import pandas as pd\n",
    "import numpy as np\n",
    "\n",
    "from sagemaker.session import Session"
   ]
  },
  {
   "cell_type": "code",
   "execution_count": 2,
   "id": "c05f6749",
   "metadata": {},
   "outputs": [],
   "source": [
    "# asset classification for in/out of network\n",
    "in_network_asset = ['Collateralized short-term financing agreements', 'Deposits with clearing organizations', \n",
    "                    'Receivable from broker-dealers', 'Receivable from parent and affiliates', \n",
    "                    'Receivables from customers and counterparties']\n",
    "\n",
    "out_network_asset = ['Cash and cash equivalents', 'Cash and securities segregated for benefit of customers or regulations',\n",
    "                     'Exchange memberships', 'Fixed assets', 'Intangible assets, net amortization', \n",
    "                     'PPE (net depreciation & amortization)', 'Receivable from employees', 'Time bank deposits',\n",
    "                     'Deferred tax asset']\n",
    "\n",
    "fifty_network_asset = ['Account receivable', 'Escrow account balances', 'Financial instruments owned, at fair value', \n",
    "                       'Other assets', 'Other receivables', 'Prepaid expenses', 'U.S. government and government agency']\n",
    "\n",
    "# liability & equity classification for in/out of network \n",
    "in_network_liable = ['Collateralized borrowing agreements', 'Financial instruments sold,  but not yet purchased at fair value',\n",
    "                     'Payable to banks', 'Payable to broker-dealers', 'Payable to customers and counterparties',\n",
    "                     'Payable to parent and affiliates']\n",
    "\n",
    "out_network_liable = ['Deferred liability', 'Lease liability', 'Taxes payable']\n",
    "\n",
    "fifty_network_liable = ['Accounts payable', 'Accrued liabilities', 'Current liabilities', 'Long-term borrowing',\n",
    "                       'Other liabilities', 'Short-term borrowing', 'Subordinated liabilities']\n"
   ]
  },
  {
   "cell_type": "code",
   "execution_count": 3,
   "id": "123cb6a1",
   "metadata": {},
   "outputs": [],
   "source": [
    "# Amazon Textract client and Sagemaker session\n",
    "s3 = boto3.client('s3')\n",
    "session = Session()\n",
    "\n",
    "bucket = 'ran-s3-systemic-risk'\n",
    "\n",
    "# retrieving the asset and liability classification models from s3 bucket\n",
    "s3.download_file(bucket, 'Output/structured_asset.csv', 'structured_asset.csv')\n",
    "df1 = pd.read_csv('structured_asset.csv')\n",
    "os.remove('structured_asset.csv')\n",
    "\n",
    "s3.download_file(bucket, 'Output/structured_liability.csv', 'structured_liability.csv')\n",
    "df2 = pd.read_csv('structured_liability.csv')\n",
    "os.remove('structured_liability.csv')"
   ]
  },
  {
   "cell_type": "code",
   "execution_count": 5,
   "id": "7c452356",
   "metadata": {},
   "outputs": [],
   "source": [
    "# determing the in/out network assets and liability & equity terms \n",
    "df1['IN_NETWORK_ASSETS'] = df1[df1.columns[np.isin(df1.columns, in_network_asset)]].sum(axis=1)\n",
    "df1['OUT_NETWORK_ASSETS'] = df1[df1.columns[np.isin(df1.columns, out_network_asset)]].sum(axis=1)\n",
    "\n",
    "df2['IN_NETWORK_LIABLE'] = df2[df2.columns[np.isin(df2.columns, in_network_liable)]].sum(axis=1)\n",
    "df2['OUT_NETWORK_LIABLE'] = df2[df2.columns[np.isin(df2.columns, out_network_liable)]].sum(axis=1)"
   ]
  },
  {
   "cell_type": "code",
   "execution_count": 6,
   "id": "31b76edc",
   "metadata": {},
   "outputs": [],
   "source": [
    "# select subsmaple for columsn to report back and merge\n",
    "a = df1[['CIK', 'Name', 'Filing Date', 'Filing Year', 'IN_NETWORK_ASSETS', 'OUT_NETWORK_ASSETS']]\n",
    "b = df2[['CIK', 'Name', 'Filing Date', 'Filing Year', 'IN_NETWORK_LIABLE', 'OUT_NETWORK_LIABLE']]"
   ]
  },
  {
   "cell_type": "code",
   "execution_count": 11,
   "id": "d14eb35b",
   "metadata": {},
   "outputs": [],
   "source": [
    "# merge the liability and equity dataframe with the asset dataframe \n",
    "c = pd.merge(a, b, on=['CIK', 'Name', 'Filing Date', 'Filing Year'])"
   ]
  },
  {
   "cell_type": "code",
   "execution_count": 17,
   "id": "3c645e26",
   "metadata": {},
   "outputs": [
    {
     "data": {
      "text/plain": [
       "<AxesSubplot:xlabel='Filing Year'>"
      ]
     },
     "execution_count": 17,
     "metadata": {},
     "output_type": "execute_result"
    },
    {
     "data": {
      "image/png": "[encoded data removed]",
      "text/plain": [
       "<Figure size 432x288 with 1 Axes>"
      ]
     },
     "metadata": {
      "needs_background": "light"
     },
     "output_type": "display_data"
    }
   ],
   "source": [
    "c.groupby('Filing Year')[['IN_NETWORK_ASSETS', 'OUT_NETWORK_ASSETS']].sum().plot()"
   ]
  },
  {
   "cell_type": "code",
   "execution_count": null,
   "id": "cf968b95",
   "metadata": {},
   "outputs": [],
   "source": []
  }
 ],
 "metadata": {
  "kernelspec": {
   "display_name": "conda_python3",
   "language": "python",
   "name": "conda_python3"
  },
  "language_info": {
   "codemirror_mode": {
    "name": "ipython",
    "version": 3
   },
   "file_extension": ".py",
   "mimetype": "text/x-python",
   "name": "python",
   "nbconvert_exporter": "python",
   "pygments_lexer": "ipython3",
   "version": "3.6.13"
  }
 },
 "nbformat": 4,
 "nbformat_minor": 5
}
